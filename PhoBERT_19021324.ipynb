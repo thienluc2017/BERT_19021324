{
  "nbformat": 4,
  "nbformat_minor": 0,
  "metadata": {
    "colab": {
      "name": "PhoBERT_19021324.ipynb",
      "provenance": [],
      "collapsed_sections": [],
      "include_colab_link": true
    },
    "kernelspec": {
      "name": "python3",
      "display_name": "Python 3"
    },
    "language_info": {
      "name": "python"
    },
    "accelerator": "GPU",
    "widgets": {
      "application/vnd.jupyter.widget-state+json": {
        "2f72e04c96e747e38e652abe699bc76b": {
          "model_module": "@jupyter-widgets/controls",
          "model_name": "HBoxModel",
          "model_module_version": "1.5.0",
          "state": {
            "_view_name": "HBoxView",
            "_dom_classes": [],
            "_model_name": "HBoxModel",
            "_view_module": "@jupyter-widgets/controls",
            "_model_module_version": "1.5.0",
            "_view_count": null,
            "_view_module_version": "1.5.0",
            "box_style": "",
            "layout": "IPY_MODEL_e5aaad51c95a40d68c570125d5ccaa5d",
            "_model_module": "@jupyter-widgets/controls",
            "children": [
              "IPY_MODEL_6ea609eaa7954af79b70738dbd9c7bbb",
              "IPY_MODEL_9f7d108c07af434dbbf2cc313397703b",
              "IPY_MODEL_7c03f84517bc46bebac5f436e095e241"
            ]
          }
        },
        "e5aaad51c95a40d68c570125d5ccaa5d": {
          "model_module": "@jupyter-widgets/base",
          "model_name": "LayoutModel",
          "model_module_version": "1.2.0",
          "state": {
            "_view_name": "LayoutView",
            "grid_template_rows": null,
            "right": null,
            "justify_content": null,
            "_view_module": "@jupyter-widgets/base",
            "overflow": null,
            "_model_module_version": "1.2.0",
            "_view_count": null,
            "flex_flow": "row wrap",
            "width": "100%",
            "min_width": null,
            "border": null,
            "align_items": null,
            "bottom": null,
            "_model_module": "@jupyter-widgets/base",
            "top": null,
            "grid_column": null,
            "overflow_y": null,
            "overflow_x": null,
            "grid_auto_flow": null,
            "grid_area": null,
            "grid_template_columns": null,
            "flex": null,
            "_model_name": "LayoutModel",
            "justify_items": null,
            "grid_row": null,
            "max_height": null,
            "align_content": null,
            "visibility": null,
            "align_self": null,
            "height": null,
            "min_height": null,
            "padding": null,
            "grid_auto_rows": null,
            "grid_gap": null,
            "max_width": null,
            "order": null,
            "_view_module_version": "1.2.0",
            "grid_template_areas": null,
            "object_position": null,
            "object_fit": null,
            "grid_auto_columns": null,
            "margin": null,
            "display": "inline-flex",
            "left": null
          }
        },
        "6ea609eaa7954af79b70738dbd9c7bbb": {
          "model_module": "@jupyter-widgets/controls",
          "model_name": "HTMLModel",
          "model_module_version": "1.5.0",
          "state": {
            "_view_name": "HTMLView",
            "style": "IPY_MODEL_5443f511d9fe4158ab6054b09aef7bf1",
            "_dom_classes": [],
            "description": "",
            "_model_name": "HTMLModel",
            "placeholder": "​",
            "_view_module": "@jupyter-widgets/controls",
            "_model_module_version": "1.5.0",
            "value": "Epoch 0:   0%",
            "_view_count": null,
            "_view_module_version": "1.5.0",
            "description_tooltip": null,
            "_model_module": "@jupyter-widgets/controls",
            "layout": "IPY_MODEL_7b87712b5d354833b8217a50d4b9fecd"
          }
        },
        "9f7d108c07af434dbbf2cc313397703b": {
          "model_module": "@jupyter-widgets/controls",
          "model_name": "FloatProgressModel",
          "model_module_version": "1.5.0",
          "state": {
            "_view_name": "ProgressView",
            "style": "IPY_MODEL_5c42ca55b0d1475aa2137dd534a146be",
            "_dom_classes": [],
            "description": "",
            "_model_name": "FloatProgressModel",
            "bar_style": "",
            "max": 2,
            "_view_module": "@jupyter-widgets/controls",
            "_model_module_version": "1.5.0",
            "value": 0,
            "_view_count": null,
            "_view_module_version": "1.5.0",
            "orientation": "horizontal",
            "min": 0,
            "description_tooltip": null,
            "_model_module": "@jupyter-widgets/controls",
            "layout": "IPY_MODEL_e669c74ff8f34b8fa6573840f2a686c0"
          }
        },
        "7c03f84517bc46bebac5f436e095e241": {
          "model_module": "@jupyter-widgets/controls",
          "model_name": "HTMLModel",
          "model_module_version": "1.5.0",
          "state": {
            "_view_name": "HTMLView",
            "style": "IPY_MODEL_6477f00af6ff46c3ad966e107325a537",
            "_dom_classes": [],
            "description": "",
            "_model_name": "HTMLModel",
            "placeholder": "​",
            "_view_module": "@jupyter-widgets/controls",
            "_model_module_version": "1.5.0",
            "value": " 0/2 [00:00&lt;?, ?it/s]",
            "_view_count": null,
            "_view_module_version": "1.5.0",
            "description_tooltip": null,
            "_model_module": "@jupyter-widgets/controls",
            "layout": "IPY_MODEL_3b97d221f2b9442d87294fb190e45863"
          }
        },
        "5443f511d9fe4158ab6054b09aef7bf1": {
          "model_module": "@jupyter-widgets/controls",
          "model_name": "DescriptionStyleModel",
          "model_module_version": "1.5.0",
          "state": {
            "_view_name": "StyleView",
            "_model_name": "DescriptionStyleModel",
            "description_width": "",
            "_view_module": "@jupyter-widgets/base",
            "_model_module_version": "1.5.0",
            "_view_count": null,
            "_view_module_version": "1.2.0",
            "_model_module": "@jupyter-widgets/controls"
          }
        },
        "7b87712b5d354833b8217a50d4b9fecd": {
          "model_module": "@jupyter-widgets/base",
          "model_name": "LayoutModel",
          "model_module_version": "1.2.0",
          "state": {
            "_view_name": "LayoutView",
            "grid_template_rows": null,
            "right": null,
            "justify_content": null,
            "_view_module": "@jupyter-widgets/base",
            "overflow": null,
            "_model_module_version": "1.2.0",
            "_view_count": null,
            "flex_flow": null,
            "width": null,
            "min_width": null,
            "border": null,
            "align_items": null,
            "bottom": null,
            "_model_module": "@jupyter-widgets/base",
            "top": null,
            "grid_column": null,
            "overflow_y": null,
            "overflow_x": null,
            "grid_auto_flow": null,
            "grid_area": null,
            "grid_template_columns": null,
            "flex": null,
            "_model_name": "LayoutModel",
            "justify_items": null,
            "grid_row": null,
            "max_height": null,
            "align_content": null,
            "visibility": null,
            "align_self": null,
            "height": null,
            "min_height": null,
            "padding": null,
            "grid_auto_rows": null,
            "grid_gap": null,
            "max_width": null,
            "order": null,
            "_view_module_version": "1.2.0",
            "grid_template_areas": null,
            "object_position": null,
            "object_fit": null,
            "grid_auto_columns": null,
            "margin": null,
            "display": null,
            "left": null
          }
        },
        "5c42ca55b0d1475aa2137dd534a146be": {
          "model_module": "@jupyter-widgets/controls",
          "model_name": "ProgressStyleModel",
          "model_module_version": "1.5.0",
          "state": {
            "_view_name": "StyleView",
            "_model_name": "ProgressStyleModel",
            "description_width": "",
            "_view_module": "@jupyter-widgets/base",
            "_model_module_version": "1.5.0",
            "_view_count": null,
            "_view_module_version": "1.2.0",
            "bar_color": null,
            "_model_module": "@jupyter-widgets/controls"
          }
        },
        "e669c74ff8f34b8fa6573840f2a686c0": {
          "model_module": "@jupyter-widgets/base",
          "model_name": "LayoutModel",
          "model_module_version": "1.2.0",
          "state": {
            "_view_name": "LayoutView",
            "grid_template_rows": null,
            "right": null,
            "justify_content": null,
            "_view_module": "@jupyter-widgets/base",
            "overflow": null,
            "_model_module_version": "1.2.0",
            "_view_count": null,
            "flex_flow": null,
            "width": null,
            "min_width": null,
            "border": null,
            "align_items": null,
            "bottom": null,
            "_model_module": "@jupyter-widgets/base",
            "top": null,
            "grid_column": null,
            "overflow_y": null,
            "overflow_x": null,
            "grid_auto_flow": null,
            "grid_area": null,
            "grid_template_columns": null,
            "flex": "2",
            "_model_name": "LayoutModel",
            "justify_items": null,
            "grid_row": null,
            "max_height": null,
            "align_content": null,
            "visibility": null,
            "align_self": null,
            "height": null,
            "min_height": null,
            "padding": null,
            "grid_auto_rows": null,
            "grid_gap": null,
            "max_width": null,
            "order": null,
            "_view_module_version": "1.2.0",
            "grid_template_areas": null,
            "object_position": null,
            "object_fit": null,
            "grid_auto_columns": null,
            "margin": null,
            "display": null,
            "left": null
          }
        },
        "6477f00af6ff46c3ad966e107325a537": {
          "model_module": "@jupyter-widgets/controls",
          "model_name": "DescriptionStyleModel",
          "model_module_version": "1.5.0",
          "state": {
            "_view_name": "StyleView",
            "_model_name": "DescriptionStyleModel",
            "description_width": "",
            "_view_module": "@jupyter-widgets/base",
            "_model_module_version": "1.5.0",
            "_view_count": null,
            "_view_module_version": "1.2.0",
            "_model_module": "@jupyter-widgets/controls"
          }
        },
        "3b97d221f2b9442d87294fb190e45863": {
          "model_module": "@jupyter-widgets/base",
          "model_name": "LayoutModel",
          "model_module_version": "1.2.0",
          "state": {
            "_view_name": "LayoutView",
            "grid_template_rows": null,
            "right": null,
            "justify_content": null,
            "_view_module": "@jupyter-widgets/base",
            "overflow": null,
            "_model_module_version": "1.2.0",
            "_view_count": null,
            "flex_flow": null,
            "width": null,
            "min_width": null,
            "border": null,
            "align_items": null,
            "bottom": null,
            "_model_module": "@jupyter-widgets/base",
            "top": null,
            "grid_column": null,
            "overflow_y": null,
            "overflow_x": null,
            "grid_auto_flow": null,
            "grid_area": null,
            "grid_template_columns": null,
            "flex": null,
            "_model_name": "LayoutModel",
            "justify_items": null,
            "grid_row": null,
            "max_height": null,
            "align_content": null,
            "visibility": null,
            "align_self": null,
            "height": null,
            "min_height": null,
            "padding": null,
            "grid_auto_rows": null,
            "grid_gap": null,
            "max_width": null,
            "order": null,
            "_view_module_version": "1.2.0",
            "grid_template_areas": null,
            "object_position": null,
            "object_fit": null,
            "grid_auto_columns": null,
            "margin": null,
            "display": null,
            "left": null
          }
        }
      }
    }
  },
  "cells": [
    {
      "cell_type": "markdown",
      "metadata": {
        "id": "view-in-github",
        "colab_type": "text"
      },
      "source": [
        "<a href=\"https://colab.research.google.com/github/thienluc2017/BERT_19021324/blob/main/PhoBERT_19021324.ipynb\" target=\"_parent\"><img src=\"https://colab.research.google.com/assets/colab-badge.svg\" alt=\"Open In Colab\"/></a>"
      ]
    },
    {
      "cell_type": "code",
      "metadata": {
        "id": "BAxXG--UX23c",
        "colab": {
          "base_uri": "https://localhost:8080/"
        },
        "outputId": "2b08d9d8-476e-460e-aebd-50092e223a28"
      },
      "source": [
        "\n",
        "!pip install pytorch-lightning\n",
        "!pip install transformers\n",
        "!pip install sentencepiece\n",
        "!pip install fairseq\n"
      ],
      "execution_count": 1,
      "outputs": [
        {
          "output_type": "stream",
          "name": "stdout",
          "text": [
            "Requirement already satisfied: pytorch-lightning in /usr/local/lib/python3.7/dist-packages (1.5.3)\n",
            "Requirement already satisfied: numpy>=1.17.2 in /usr/local/lib/python3.7/dist-packages (from pytorch-lightning) (1.19.5)\n",
            "Requirement already satisfied: fsspec[http]!=2021.06.0,>=2021.05.0 in /usr/local/lib/python3.7/dist-packages (from pytorch-lightning) (2021.11.1)\n",
            "Requirement already satisfied: torchmetrics>=0.4.1 in /usr/local/lib/python3.7/dist-packages (from pytorch-lightning) (0.6.0)\n",
            "Requirement already satisfied: pyDeprecate==0.3.1 in /usr/local/lib/python3.7/dist-packages (from pytorch-lightning) (0.3.1)\n",
            "Requirement already satisfied: future>=0.17.1 in /usr/local/lib/python3.7/dist-packages (from pytorch-lightning) (0.18.2)\n",
            "Requirement already satisfied: tqdm>=4.41.0 in /usr/local/lib/python3.7/dist-packages (from pytorch-lightning) (4.62.3)\n",
            "Requirement already satisfied: PyYAML>=5.1 in /usr/local/lib/python3.7/dist-packages (from pytorch-lightning) (6.0)\n",
            "Requirement already satisfied: tensorboard>=2.2.0 in /usr/local/lib/python3.7/dist-packages (from pytorch-lightning) (2.7.0)\n",
            "Requirement already satisfied: torch>=1.6 in /usr/local/lib/python3.7/dist-packages (from pytorch-lightning) (1.10.0+cu111)\n",
            "Requirement already satisfied: packaging>=17.0 in /usr/local/lib/python3.7/dist-packages (from pytorch-lightning) (21.3)\n",
            "Requirement already satisfied: typing-extensions in /usr/local/lib/python3.7/dist-packages (from pytorch-lightning) (3.10.0.2)\n",
            "Requirement already satisfied: aiohttp in /usr/local/lib/python3.7/dist-packages (from fsspec[http]!=2021.06.0,>=2021.05.0->pytorch-lightning) (3.8.1)\n",
            "Requirement already satisfied: requests in /usr/local/lib/python3.7/dist-packages (from fsspec[http]!=2021.06.0,>=2021.05.0->pytorch-lightning) (2.23.0)\n",
            "Requirement already satisfied: pyparsing!=3.0.5,>=2.0.2 in /usr/local/lib/python3.7/dist-packages (from packaging>=17.0->pytorch-lightning) (3.0.6)\n",
            "Requirement already satisfied: tensorboard-data-server<0.7.0,>=0.6.0 in /usr/local/lib/python3.7/dist-packages (from tensorboard>=2.2.0->pytorch-lightning) (0.6.1)\n",
            "Requirement already satisfied: google-auth<3,>=1.6.3 in /usr/local/lib/python3.7/dist-packages (from tensorboard>=2.2.0->pytorch-lightning) (1.35.0)\n",
            "Requirement already satisfied: grpcio>=1.24.3 in /usr/local/lib/python3.7/dist-packages (from tensorboard>=2.2.0->pytorch-lightning) (1.42.0)\n",
            "Requirement already satisfied: tensorboard-plugin-wit>=1.6.0 in /usr/local/lib/python3.7/dist-packages (from tensorboard>=2.2.0->pytorch-lightning) (1.8.0)\n",
            "Requirement already satisfied: google-auth-oauthlib<0.5,>=0.4.1 in /usr/local/lib/python3.7/dist-packages (from tensorboard>=2.2.0->pytorch-lightning) (0.4.6)\n",
            "Requirement already satisfied: absl-py>=0.4 in /usr/local/lib/python3.7/dist-packages (from tensorboard>=2.2.0->pytorch-lightning) (0.12.0)\n",
            "Requirement already satisfied: setuptools>=41.0.0 in /usr/local/lib/python3.7/dist-packages (from tensorboard>=2.2.0->pytorch-lightning) (57.4.0)\n",
            "Requirement already satisfied: markdown>=2.6.8 in /usr/local/lib/python3.7/dist-packages (from tensorboard>=2.2.0->pytorch-lightning) (3.3.6)\n",
            "Requirement already satisfied: werkzeug>=0.11.15 in /usr/local/lib/python3.7/dist-packages (from tensorboard>=2.2.0->pytorch-lightning) (1.0.1)\n",
            "Requirement already satisfied: wheel>=0.26 in /usr/local/lib/python3.7/dist-packages (from tensorboard>=2.2.0->pytorch-lightning) (0.37.0)\n",
            "Requirement already satisfied: protobuf>=3.6.0 in /usr/local/lib/python3.7/dist-packages (from tensorboard>=2.2.0->pytorch-lightning) (3.17.3)\n",
            "Requirement already satisfied: six in /usr/local/lib/python3.7/dist-packages (from absl-py>=0.4->tensorboard>=2.2.0->pytorch-lightning) (1.15.0)\n",
            "Requirement already satisfied: cachetools<5.0,>=2.0.0 in /usr/local/lib/python3.7/dist-packages (from google-auth<3,>=1.6.3->tensorboard>=2.2.0->pytorch-lightning) (4.2.4)\n",
            "Requirement already satisfied: pyasn1-modules>=0.2.1 in /usr/local/lib/python3.7/dist-packages (from google-auth<3,>=1.6.3->tensorboard>=2.2.0->pytorch-lightning) (0.2.8)\n",
            "Requirement already satisfied: rsa<5,>=3.1.4 in /usr/local/lib/python3.7/dist-packages (from google-auth<3,>=1.6.3->tensorboard>=2.2.0->pytorch-lightning) (4.7.2)\n",
            "Requirement already satisfied: requests-oauthlib>=0.7.0 in /usr/local/lib/python3.7/dist-packages (from google-auth-oauthlib<0.5,>=0.4.1->tensorboard>=2.2.0->pytorch-lightning) (1.3.0)\n",
            "Requirement already satisfied: importlib-metadata>=4.4 in /usr/local/lib/python3.7/dist-packages (from markdown>=2.6.8->tensorboard>=2.2.0->pytorch-lightning) (4.8.2)\n",
            "Requirement already satisfied: zipp>=0.5 in /usr/local/lib/python3.7/dist-packages (from importlib-metadata>=4.4->markdown>=2.6.8->tensorboard>=2.2.0->pytorch-lightning) (3.6.0)\n",
            "Requirement already satisfied: pyasn1<0.5.0,>=0.4.6 in /usr/local/lib/python3.7/dist-packages (from pyasn1-modules>=0.2.1->google-auth<3,>=1.6.3->tensorboard>=2.2.0->pytorch-lightning) (0.4.8)\n",
            "Requirement already satisfied: idna<3,>=2.5 in /usr/local/lib/python3.7/dist-packages (from requests->fsspec[http]!=2021.06.0,>=2021.05.0->pytorch-lightning) (2.10)\n",
            "Requirement already satisfied: certifi>=2017.4.17 in /usr/local/lib/python3.7/dist-packages (from requests->fsspec[http]!=2021.06.0,>=2021.05.0->pytorch-lightning) (2021.10.8)\n",
            "Requirement already satisfied: urllib3!=1.25.0,!=1.25.1,<1.26,>=1.21.1 in /usr/local/lib/python3.7/dist-packages (from requests->fsspec[http]!=2021.06.0,>=2021.05.0->pytorch-lightning) (1.24.3)\n",
            "Requirement already satisfied: chardet<4,>=3.0.2 in /usr/local/lib/python3.7/dist-packages (from requests->fsspec[http]!=2021.06.0,>=2021.05.0->pytorch-lightning) (3.0.4)\n",
            "Requirement already satisfied: oauthlib>=3.0.0 in /usr/local/lib/python3.7/dist-packages (from requests-oauthlib>=0.7.0->google-auth-oauthlib<0.5,>=0.4.1->tensorboard>=2.2.0->pytorch-lightning) (3.1.1)\n",
            "Requirement already satisfied: frozenlist>=1.1.1 in /usr/local/lib/python3.7/dist-packages (from aiohttp->fsspec[http]!=2021.06.0,>=2021.05.0->pytorch-lightning) (1.2.0)\n",
            "Requirement already satisfied: asynctest==0.13.0 in /usr/local/lib/python3.7/dist-packages (from aiohttp->fsspec[http]!=2021.06.0,>=2021.05.0->pytorch-lightning) (0.13.0)\n",
            "Requirement already satisfied: async-timeout<5.0,>=4.0.0a3 in /usr/local/lib/python3.7/dist-packages (from aiohttp->fsspec[http]!=2021.06.0,>=2021.05.0->pytorch-lightning) (4.0.1)\n",
            "Requirement already satisfied: multidict<7.0,>=4.5 in /usr/local/lib/python3.7/dist-packages (from aiohttp->fsspec[http]!=2021.06.0,>=2021.05.0->pytorch-lightning) (5.2.0)\n",
            "Requirement already satisfied: yarl<2.0,>=1.0 in /usr/local/lib/python3.7/dist-packages (from aiohttp->fsspec[http]!=2021.06.0,>=2021.05.0->pytorch-lightning) (1.7.2)\n",
            "Requirement already satisfied: attrs>=17.3.0 in /usr/local/lib/python3.7/dist-packages (from aiohttp->fsspec[http]!=2021.06.0,>=2021.05.0->pytorch-lightning) (21.2.0)\n",
            "Requirement already satisfied: aiosignal>=1.1.2 in /usr/local/lib/python3.7/dist-packages (from aiohttp->fsspec[http]!=2021.06.0,>=2021.05.0->pytorch-lightning) (1.2.0)\n",
            "Requirement already satisfied: charset-normalizer<3.0,>=2.0 in /usr/local/lib/python3.7/dist-packages (from aiohttp->fsspec[http]!=2021.06.0,>=2021.05.0->pytorch-lightning) (2.0.7)\n",
            "Requirement already satisfied: transformers in /usr/local/lib/python3.7/dist-packages (4.12.5)\n",
            "Requirement already satisfied: packaging>=20.0 in /usr/local/lib/python3.7/dist-packages (from transformers) (21.3)\n",
            "Requirement already satisfied: regex!=2019.12.17 in /usr/local/lib/python3.7/dist-packages (from transformers) (2019.12.20)\n",
            "Requirement already satisfied: requests in /usr/local/lib/python3.7/dist-packages (from transformers) (2.23.0)\n",
            "Requirement already satisfied: tqdm>=4.27 in /usr/local/lib/python3.7/dist-packages (from transformers) (4.62.3)\n",
            "Requirement already satisfied: filelock in /usr/local/lib/python3.7/dist-packages (from transformers) (3.4.0)\n",
            "Requirement already satisfied: numpy>=1.17 in /usr/local/lib/python3.7/dist-packages (from transformers) (1.19.5)\n",
            "Requirement already satisfied: huggingface-hub<1.0,>=0.1.0 in /usr/local/lib/python3.7/dist-packages (from transformers) (0.1.2)\n",
            "Requirement already satisfied: importlib-metadata in /usr/local/lib/python3.7/dist-packages (from transformers) (4.8.2)\n",
            "Requirement already satisfied: tokenizers<0.11,>=0.10.1 in /usr/local/lib/python3.7/dist-packages (from transformers) (0.10.3)\n",
            "Requirement already satisfied: pyyaml>=5.1 in /usr/local/lib/python3.7/dist-packages (from transformers) (6.0)\n",
            "Requirement already satisfied: sacremoses in /usr/local/lib/python3.7/dist-packages (from transformers) (0.0.46)\n",
            "Requirement already satisfied: typing-extensions>=3.7.4.3 in /usr/local/lib/python3.7/dist-packages (from huggingface-hub<1.0,>=0.1.0->transformers) (3.10.0.2)\n",
            "Requirement already satisfied: pyparsing!=3.0.5,>=2.0.2 in /usr/local/lib/python3.7/dist-packages (from packaging>=20.0->transformers) (3.0.6)\n",
            "Requirement already satisfied: zipp>=0.5 in /usr/local/lib/python3.7/dist-packages (from importlib-metadata->transformers) (3.6.0)\n",
            "Requirement already satisfied: chardet<4,>=3.0.2 in /usr/local/lib/python3.7/dist-packages (from requests->transformers) (3.0.4)\n",
            "Requirement already satisfied: urllib3!=1.25.0,!=1.25.1,<1.26,>=1.21.1 in /usr/local/lib/python3.7/dist-packages (from requests->transformers) (1.24.3)\n",
            "Requirement already satisfied: certifi>=2017.4.17 in /usr/local/lib/python3.7/dist-packages (from requests->transformers) (2021.10.8)\n",
            "Requirement already satisfied: idna<3,>=2.5 in /usr/local/lib/python3.7/dist-packages (from requests->transformers) (2.10)\n",
            "Requirement already satisfied: click in /usr/local/lib/python3.7/dist-packages (from sacremoses->transformers) (7.1.2)\n",
            "Requirement already satisfied: six in /usr/local/lib/python3.7/dist-packages (from sacremoses->transformers) (1.15.0)\n",
            "Requirement already satisfied: joblib in /usr/local/lib/python3.7/dist-packages (from sacremoses->transformers) (1.1.0)\n",
            "Requirement already satisfied: sentencepiece in /usr/local/lib/python3.7/dist-packages (0.1.96)\n",
            "Requirement already satisfied: fairseq in /usr/local/lib/python3.7/dist-packages (0.10.2)\n",
            "Requirement already satisfied: cffi in /usr/local/lib/python3.7/dist-packages (from fairseq) (1.15.0)\n",
            "Requirement already satisfied: regex in /usr/local/lib/python3.7/dist-packages (from fairseq) (2019.12.20)\n",
            "Requirement already satisfied: hydra-core in /usr/local/lib/python3.7/dist-packages (from fairseq) (1.1.1)\n",
            "Requirement already satisfied: torch in /usr/local/lib/python3.7/dist-packages (from fairseq) (1.10.0+cu111)\n",
            "Requirement already satisfied: sacrebleu>=1.4.12 in /usr/local/lib/python3.7/dist-packages (from fairseq) (2.0.0)\n",
            "Requirement already satisfied: tqdm in /usr/local/lib/python3.7/dist-packages (from fairseq) (4.62.3)\n",
            "Requirement already satisfied: numpy in /usr/local/lib/python3.7/dist-packages (from fairseq) (1.19.5)\n",
            "Requirement already satisfied: dataclasses in /usr/local/lib/python3.7/dist-packages (from fairseq) (0.6)\n",
            "Requirement already satisfied: cython in /usr/local/lib/python3.7/dist-packages (from fairseq) (0.29.24)\n",
            "Requirement already satisfied: portalocker in /usr/local/lib/python3.7/dist-packages (from sacrebleu>=1.4.12->fairseq) (2.3.2)\n",
            "Requirement already satisfied: colorama in /usr/local/lib/python3.7/dist-packages (from sacrebleu>=1.4.12->fairseq) (0.4.4)\n",
            "Requirement already satisfied: tabulate>=0.8.9 in /usr/local/lib/python3.7/dist-packages (from sacrebleu>=1.4.12->fairseq) (0.8.9)\n",
            "Requirement already satisfied: pycparser in /usr/local/lib/python3.7/dist-packages (from cffi->fairseq) (2.21)\n",
            "Requirement already satisfied: omegaconf==2.1.* in /usr/local/lib/python3.7/dist-packages (from hydra-core->fairseq) (2.1.1)\n",
            "Requirement already satisfied: antlr4-python3-runtime==4.8 in /usr/local/lib/python3.7/dist-packages (from hydra-core->fairseq) (4.8)\n",
            "Requirement already satisfied: importlib-resources in /usr/local/lib/python3.7/dist-packages (from hydra-core->fairseq) (5.4.0)\n",
            "Requirement already satisfied: PyYAML>=5.1.0 in /usr/local/lib/python3.7/dist-packages (from omegaconf==2.1.*->hydra-core->fairseq) (6.0)\n",
            "Requirement already satisfied: zipp>=3.1.0 in /usr/local/lib/python3.7/dist-packages (from importlib-resources->hydra-core->fairseq) (3.6.0)\n",
            "Requirement already satisfied: typing-extensions in /usr/local/lib/python3.7/dist-packages (from torch->fairseq) (3.10.0.2)\n"
          ]
        }
      ]
    },
    {
      "cell_type": "code",
      "metadata": {
        "colab": {
          "base_uri": "https://localhost:8080/"
        },
        "id": "QvwzC_Wta4ko",
        "outputId": "40f4e549-60c4-4b46-820f-0906e8411a17"
      },
      "source": [
        "from google.colab import drive\n",
        "drive.mount('/content/drive')"
      ],
      "execution_count": 2,
      "outputs": [
        {
          "output_type": "stream",
          "name": "stdout",
          "text": [
            "Drive already mounted at /content/drive; to attempt to forcibly remount, call drive.mount(\"/content/drive\", force_remount=True).\n"
          ]
        }
      ]
    },
    {
      "cell_type": "markdown",
      "metadata": {
        "id": "ObVSjGJ2Adwi"
      },
      "source": [
        "# LOAD DATA"
      ]
    },
    {
      "cell_type": "code",
      "metadata": {
        "id": "C5tPeRinVUmh",
        "colab": {
          "base_uri": "https://localhost:8080/"
        },
        "outputId": "aaab93c0-dee2-4352-b4c2-d667fa41c9f8"
      },
      "source": [
        "# replace this path to your dataset directory\n",
        "DATA_ROOT_DIR=\"/content/drive/MyDrive/colab/shopee-sentiment\"\n",
        "!ls $DATA_ROOT_DIR"
      ],
      "execution_count": 3,
      "outputs": [
        {
          "output_type": "stream",
          "name": "stdout",
          "text": [
            "sample_submission.csv  train_preprocess.csv\n",
            "test.csv\t       train_preprocess_unsegment.csv\n",
            "test_preprocess.csv    train_preprocess_unsegment.gsheet\n",
            "train.csv\t       train.xlsx\n"
          ]
        }
      ]
    },
    {
      "cell_type": "code",
      "metadata": {
        "id": "T-95Em2MAchd"
      },
      "source": [
        "# include some dependence\n",
        "import pandas as pd\n",
        "import numpy as np\n",
        "from torch.utils.data import random_split, DataLoader, Dataset\n",
        "import pytorch_lightning as pl\n",
        "import torch.nn as nn\n",
        "import torch\n",
        "\n",
        "train_ratio = 0.8\n",
        "DATA_DIR = DATA_ROOT_DIR + '/train_preprocess_unsegment.csv'"
      ],
      "execution_count": 4,
      "outputs": []
    },
    {
      "cell_type": "code",
      "metadata": {
        "id": "pk6fOTGRhDUb",
        "colab": {
          "base_uri": "https://localhost:8080/",
          "height": 81
        },
        "outputId": "318f5f99-5f18-4e01-8d48-110fc2c913e1"
      },
      "source": [
        "# Use pandas to read csv, this will return a excel like table data\n",
        "train = pd.read_csv(DATA_DIR, index_col=0)\n",
        "train.sample()"
      ],
      "execution_count": 5,
      "outputs": [
        {
          "output_type": "execute_result",
          "data": {
            "text/html": [
              "<div>\n",
              "<style scoped>\n",
              "    .dataframe tbody tr th:only-of-type {\n",
              "        vertical-align: middle;\n",
              "    }\n",
              "\n",
              "    .dataframe tbody tr th {\n",
              "        vertical-align: top;\n",
              "    }\n",
              "\n",
              "    .dataframe thead th {\n",
              "        text-align: right;\n",
              "    }\n",
              "</style>\n",
              "<table border=\"1\" class=\"dataframe\">\n",
              "  <thead>\n",
              "    <tr style=\"text-align: right;\">\n",
              "      <th></th>\n",
              "      <th>id</th>\n",
              "      <th>text</th>\n",
              "      <th>class</th>\n",
              "      <th>preprocess_text</th>\n",
              "    </tr>\n",
              "  </thead>\n",
              "  <tbody>\n",
              "    <tr>\n",
              "      <th>8827</th>\n",
              "      <td>4e3b0c48</td>\n",
              "      <td>Mình đến đây làm với 1 người bạn , mình thích ...</td>\n",
              "      <td>1</td>\n",
              "      <td>mình đến đây làm với 1 người bạn mình thích nh...</td>\n",
              "    </tr>\n",
              "  </tbody>\n",
              "</table>\n",
              "</div>"
            ],
            "text/plain": [
              "            id  ...                                    preprocess_text\n",
              "8827  4e3b0c48  ...  mình đến đây làm với 1 người bạn mình thích nh...\n",
              "\n",
              "[1 rows x 4 columns]"
            ]
          },
          "metadata": {},
          "execution_count": 5
        }
      ]
    },
    {
      "cell_type": "code",
      "metadata": {
        "id": "PzegOvuxhla8",
        "colab": {
          "base_uri": "https://localhost:8080/"
        },
        "outputId": "7610706a-4180-4fd3-93a5-e987545d0110"
      },
      "source": [
        "from typing import *\n",
        "\n",
        "class SentimentData(Dataset):\n",
        "    \"\"\"\n",
        "    Dataset class for sentiment analysis. \n",
        "    Every dataset using pytorch should be overwrite this class\n",
        "    This require 2 function, __len__ and __getitem__\n",
        "    \"\"\"\n",
        "    def __init__(self, data_dir):\n",
        "        \"\"\"\n",
        "        Args:\n",
        "            data_dir (string): Directory with the csv file\n",
        "        \"\"\"\n",
        "        self.df = pd.read_csv(data_dir, index_col=0)\n",
        "\n",
        "    def __len__(self):\n",
        "        \"\"\"\n",
        "        length of the dataset, i.e. number of rows in the csv file\n",
        "        Returns: int \n",
        "        \"\"\"\n",
        "        return len(self.df)\n",
        "\n",
        "    def __getitem__(self, idx):\n",
        "        \"\"\"\n",
        "        given a row index, returns the corresponding row of the csv file\n",
        "        Returns: text (string), label (int) \n",
        "        \"\"\"\n",
        "        text = self.df[\"preprocess_text\"][idx]\n",
        "        label = self.df[\"class\"][idx]\n",
        "\n",
        "        return text, label\n",
        "\n",
        "\n",
        "class SentimentDataModule(pl.LightningDataModule):\n",
        "    \"\"\"\n",
        "    Module class for sentiment analysis. this class is used to load the data to the model. \n",
        "    It is a subclass of LightningDataModule. \n",
        "    \"\"\"\n",
        "\n",
        "    def __init__(self, data_dir: str = DATA_DIR, batch_size: int = 32):\n",
        "        \"\"\"\n",
        "        Args:\n",
        "            data_dir (string): Directory with the csv file\n",
        "            batch_size (int): batch size for dataloader\n",
        "        \"\"\"\n",
        "        super().__init__()\n",
        "        self.data_dir = data_dir\n",
        "        self.batch_size = batch_size\n",
        "\n",
        "    def setup(self, stage: Optional[str] = None):\n",
        "        \"\"\"\n",
        "        Loads the data to the model. \n",
        "        the data is loaded in the setup function, so that it is loaded only once. \n",
        "        \"\"\"\n",
        "        data_full = SentimentData(self.data_dir)\n",
        "        train_size = round(len(data_full) * train_ratio)\n",
        "        val_size = len(data_full) - train_size\n",
        "        print(len(data_full), train_size, val_size)\n",
        "        self.data_train, self.data_val = random_split(data_full, [train_size, val_size])\n",
        "\n",
        "    def train_dataloader(self):\n",
        "        \"\"\"\n",
        "        Returns: dataloader for training\n",
        "        \"\"\"\n",
        "        return DataLoader(self.data_train, batch_size=self.batch_size)\n",
        "\n",
        "    def val_dataloader(self):\n",
        "        \"\"\"\n",
        "        Returns: dataloader for validation\n",
        "        \"\"\"\n",
        "        return DataLoader(self.data_val, batch_size=self.batch_size)\n",
        "\n",
        "# Do some Test with data\n",
        "if __name__ == \"__main__\":\n",
        "\tdm = SentimentDataModule(DATA_DIR)\n",
        "\tdm.setup()\n",
        "\tidx = 0\n",
        "\tfor item in (dm.train_dataloader()):\n",
        "\t\tprint(idx)\n",
        "\t\tprint(item)\n",
        "\t\tidx += 1\n",
        "\t\tif idx > 5: break"
      ],
      "execution_count": 6,
      "outputs": [
        {
          "output_type": "stream",
          "name": "stdout",
          "text": [
            "27000 21600 5400\n",
            "0\n",
            "[('chi nhánh này không đông cho lắm vào buổi sáng và những ngày đầu tuần nên rất yên tĩnh không gian rộng thoáng mát thích nhất là giá khá rẻ so với mặt bằng chung gà hơi khô và uống coca bao nhiêu cũng đc nhưng điểm trừ là nhân viên không nhiệt tình cho lắm', 'các món ăn ở đây đều tươi sống chế biến ngon gía cả hợp lý phong cách phục vụ chuyên nghiệp nhiệt tình nhà hàng sang trọng không gian rộng sạch sẽ có 3 phòng víp có điều hòa   địa điểm thuận tiện cho khách du lịch đi các đảo gần trợ mua sắm hải sản chủ nhà hàng thân thiện dễ gần nhà hàng có dịch vụ đặt mua vé tàu khách sạn đi các đảo như cô tô quan lạn   trông xe và có chỗ ngủ cho lái xe miễn phí', 'đùa chứ nhà hàng tệ quá cả lớp t đi ăn tất niên thế là đặt bufet đến cho đc nồi lẩu thức ăn mỗi thứ đc 1 tí mỗi đứa gắp 1 cái là hết xong rồi chọn món nhìn trong menu có vẻ hấp dẫn ngồi đợi dài cả cổ mà chẳg có món nào đc bê ra hết hỏi nhân viên thì cứ chờ một lát có ngay ạ xong cứ thế đợi cảm giác như bị lừa mất 19k vậy chắc đc mỗi khoai tây chiên là bê ra nhanh nhất   bọn t cứ ngồi đợi cho đến khi món tráng miệg đc bê ra mà những thứ bọn t cần vẫn chưa thèm đc bê lên chả hiểu làm ăn kiểu gì ăn xong về trường cảm giác như vẫn chưa ăn gì vào bụng ý chán đời thế chứ', 'ăn nhiều lần bh mới review lại quán trong ngõ nhưng có chỗ để xe thoải mái thích nhất ở quán nước sốt lần nào ăn cũng gọi thêm vì fre mà có 2 loại suất thường và đầy đủ khác nhau cái xúc xích thôi', 'quán mới khai trương nên được giảm giá 20 quán nhỏ nhỏ thui không gian hơi bị chật ngồi bệt và ngồi ghế tuỳ thích quán nằm gần khu trường đại học nên cũng có khách đồ uống mình nghĩ là ngon đặc biệt trà đào mùi vị khá ok khác hẳn những chổ khác ở đây bánh tiramisu ngon lắm ý ạ quán còn nhiều loại đồ ăn vặt cốc ổi dầm nữa đấy phục vụ nhanh nhẹn vui vẻ lắm ạ', 'mình ăn được một thời gian lâu giờ mới fb nhưng có gì đấy sai sai hôm đi đến đúng địa chỉ rồi thì thấy hàng này vào gọi đồ thì nhìn hoa không có thanh long đỏ t mác nhìn cũn không phải lak lak bơ hôm đấy hơi đắng chân trâu cứng hoa quả nhạt', 'nghe mấy đứa bạn giới thiệu quán này ngon nên đi thử quả thật thất vọng tràn trề luôn được mỗi cái không gian với nước uống trang trí đẹp còn chất lượng thì thôi mình gọi mate trà xanh uống chưa được nửa li thì bỏ vừa nhạt mà còn cặn trà trog đó nữa uống mà thấy tiếc 25k dễ sợ   giá cũng mắc nữa nói chung là sẽ k bao giờ quay lại nữa  ', 'ồ ở đây thì ngon phải nói rồi nhà hàng thì sang chảnh nhưng giá cả vừa túi tiền món ăn lại ngon tuy nhiên khách đông nên món ra hơi chậm sớm sớm là hết bàn rồi', 'mình mua voucher ăn bufet ở đây lúc đầu hình ảnh giới thiệu về nhà hàng rất chi tiết như sushi sashimi món nướng súp canh nhưng khi đến ăn cảm giác vô cùng thất vọng vì cả 3 tiếng đồng hồ k có nổi 1 miếng cá hay miếng cơm mà đắp miếng cá hay trứng lên mà hết 95 là cơm cuộn như thế này cảm thấy bị lừa cơm cuộn ăn vô thấy chua chua mù tạt k hề cay thức uống đắt đỏ soup k phải là soup miso mà làm sai hoàn toàn giống soup việt nam', 'thức uống không những ngon mà nguyên liệu được chọn lựa kĩ càng đảm bảo hương vị và luôn suy nghĩ đến sức khỏe của thực khách giá cả lại quá ư là hợp lý nữa yêu nhiên mất gòi 3', 'thấy chỗ này có giảm giá cho thẻ fody nên mình ghé thử không ngờ ngon ngoài sức tưởng tượng giá cả có hơi cao tí nhưng mình nghĩ nếu sản xuất theo quy trình và công nghệ singapore kiểu này thì ăn giá cao tí mà không sợ có gelatin như mấy chỗ đậu hủ singapore nhái ngoài đường củng đáng đầu tiên mình gọi có 3 hủ dưa gang socola san hô ăn thử thấy ngon quá gọi thêm 3 hủ chuối capuchino trà xanh ăn lun cho đã mỗi vị đều có cái đặc trưng riêng nhe nhưng thích nhất là san hô lúc đầu chưa ăn tưởng có mùi giống rong biển chứ ai đè vị thanh mát như trái cây hỗn hợp vậy á còn mochi thì khác với mohi nhật nhưng ngon không kém gì nghen còn cái mouse việt quốc ăn chua chua ngọt ngọt có cảm giác như việt quốc nhiều lắm lun á nói chung thích đồ ăn thanh mát kiểu này nên chắc chắn sẽ ghé tiếp làm mối ho quán lun nhoe     tổng thiệt hại bữa ăn dinh dưỡng chất lượng singapore tại việt nam là 131 0 quá là rẻe    ', 'quán có hai tầng chưa đến buổi sáng nhưng lúc tối thì không gian k sáng lắm tầng2 tầm 830 9h tối sẽ có một số người hút shisha nên nhiều mùi trộn lẫn nước uống k có gi đặc biệt', 'trà đào vs trà hồng uống cũng bthg nhg đc cái hay tặng voucher mua 1 tặng 1 nên cũng tạm view đẹp vs lại có thg hiệu nên giá hơi chát', 'nói thật là mình rất kết không gian ở đây nhìn nhẹ nhàng và ấm cúng khung cảnh của quán rất trữ tình có nhiều cây cối tươi xanh quanh quán mà các chậu cây be bé nhìn cực kỳ dễ thương có chút gìđó vintage không những vậy mà quán còn để đèn vàng làm cho khách hàng có cảm giác được yêu được bình yên và ấm cúng quán cũng rất hay trưng bày các tác phẩm tranh ảnh cũng như những câu chuyện hay đang rất được các bạn trẻ yêu thích bàn ghế tủ kệ ở đây chủ yếu bằng gỗ ghế ngồi dạng cao cao vui vui nước uống ở đây cũng ngộ nữa nhìn cực kỳ bắt mắt và lạ được thiết kế đa dạng đủ loại như các chậu các bình nước hủ thủy tinh thường dùng để đựng đường muối ở nhà nhưng được quán đính kèm thêm các phụ kiện như nắp gỗ dây kẽm bao quanh màu sắc của nước cũng rất thu hút thực khách màu nào nhìn cũng tươi mát nhìn vào là muốn thưởng thức ngay bởi sự tươi mát của nó', 'uống ở h c tn nhiều rồi hôm nay được bạn phục vụ giới thiệu cho món hồng trà premium kem machiato nhìn là thấy đẹp rồi đó uống vô cũng ngon vị trà thanh nhẹ lớp kem ngọt dịu béo béo quyện vô nhau hài hò a tuyệt nhân viên ở đây cũng dễ thương nữa yêu cầu hỗ trợ gì cũng được bực mình là có nhiều khách vô ý thức quá mình thấy nhân viên nhắc nhở mời ra ngoài ăn để không gây mùi trong phòng máy lạnh thế mà cũng nhăn nhó phàn nàn z khách với khách mà còn chịu không nổi các bạn đó nhưng nói chung vẫn thích tới đây uống lú m chụt chụt', 'o day tung sua quan 1 lan nen quan cang ngay cang sach se thoang mat cac mon an kem com kha phong phu nha co nhieu mon mao nha it khi nau lam com deo k phai loai xop com khoan dau chat luong lam do quan nay co 5 chi nhanh lan do', 'lần nào vào đây cũng gọi bánh tráng đà lạt tại bị ghiền lớp bánh giòn giòn thơm mùi trứng hành béo béo của sốt cay cay của tương ăn khi nóng thì thôi rồi bánh tráng bơ ở đây cũng ngon ngọt ngọt mặn mặn thơm mùi bơ và tép cũng thích bánh tráng phan thiết thì khá lạ ăn có vị chua chua của nem thì phải bánh tráng cuộn sốt me cũng ok sốt đó do wuán tự làm nên ăn thấy lạ mà ngon quán có lẽ khá đông mà lại chỉ có 1 chị chạy bàn nên đôi lúc thấy chị á quên món khách gọi nhưng mình đã ăn ở đây 3 lần rồi cảm thấy ngon giá cũng rẻ cái gì cũng 10k mà nhiều lại ngồi cạnh bờ hồ thơ mộng nữa lành lạnh mà đc ăn cái này thích phải biết', 'tại cũng gần nhà nên mình qua đây test hôm đó đi với cô bạn gọi bừa phứa mà hết 20k cũng sửng sốt hehe các món rang muối ăn khá vừa miệng mình gọi 23 menu trừ lẩu ăn cảm giác vừa miệng mà dễ ăn mắm tôm pha siu ngon mình ăn cháo thấy hơi ngọt chắc anh chủ nêm nêm quá tay   lúc về anh dắt xe cũng hỏi mình ngon kem ăn dc k thái độ nvien thân thiện quán vỉa hè nhưng sạch sẽ ưa nhìn lắm hnao quay lại ăn thử lẩu xem sao', 'mấy bạn mình tỗ chức sn cho mình o day phãi nói chỗ này bán trà sữa trà xanh dỡ nhất m từng uống trà sữa bỡ bỡ mà trà xanh thì k thơm như mùi trà xanh trung quốc trân châu nấu cái kỉu j mà dỡ ẹc 35k ôi trời cho không mk thèm nữa nước kĩu éo nào cũng dỡ mà mắc nhân viên phuc vu có vẽ khinh khỉnh phòng ốc thì cũng chã đẹp đẽ gì ngộp ngộp k cho mang dồ ăn ngoài zô haha sợ nta k mua đồ ăn hay sá vãi còn nghe nói đi 2ng mà kiu 1ly là k cho zô bán hàng kỉu ntn thì thôi r di vừa mắc vừa dỡ vừa chãnh kbh quay lại mong các ban dung zo de gap loi lam nhu minh', '  không gian hơi nhỏ cảm giác chật chội vệ sinh không được tốt thực đơn 80 menu là cá đủ các loại với đa dạng cách chế biến chiên lẩu nướng hải sản nhìn chung tươi ngon cách chế biến món ăn hợp khẩu vị giá cả hợp lý phù hợp với các đối tượng bình dân nhóm mình đi 4 người hết 414 0 6 chai ken 2 lon nước ngọt 1 nước suối 1 đĩa bạch tuột nướng 30gr 1 đĩa mực trứng nướng 30gr 2 đĩa sò điệp nướng mỡ hành 1 đĩa mì xào hải sản', 'quán này mở từ năm 2010 ngay mặt đường tô hiệu ở đây bán bánh ngọt sữa chua uống khá ngon đang trong dịp trung thu ở đây cũng làm bánh trung thu bán nữa ngoài các loại bánh kia còn có bánh mì bánh cup cake bánh bông lan banh aka không gian khá rộng rãi và mát nhân viên và chủ quán dễ thân thiện và vui tính giá bánh cũng rẻ các bạn qua đặt bánh sinh hoặc mua về ăn đi nào', 'mới từ parkson về mua bumba uống do có chương trình giảm e card giá có vẻ hơi mắc so với những quán trà sữa gần nhà mình nhưng khác chỗ là chỗ này trà sữa ngon vừa miệng béo béo mùi sữa mấy chị nhân viên cũng dễ thương nữa', 'giá vé toàn khu là 80k người lớn 60k trẻ em dưới 1m4 giữ đồ 12k công viên rất nhỏ quá cũ kỹ bên khu vui chơi nước cực dơ nhưng bù lại khu trong nhà khá thích có hồ masage chân hồ nước lạnh hồ nước nóng thuỷ lực phòng xông hơi hồ bơi trong nhà sâu từ 1m3 1m5 nếu chỉ đi riêng khu này là 45k 5k sẽ có thầy dạy bơi không giới hạn thời gian', 'quán có nhiều món ăn vặt giá phù hợp với sinh viên sushi ở đây cũng đc nhưng ko ngon bằng mấy quán trc kia mình từng ăn mình chỉ thich phô mai que ở đây thôi nhân viên thì nhiệt tình khỏi nói', 'quán mới nhưng rất ngon tìm hiểu mới biết là quán mới nhưng thương hiệu có trên 50 năm rồi bánh canh trảng bàng năm dung rất nổi tiếng với đặc sản banh trang phơi sương cuốn thịt luộc và rau rừng đặc biệt bánh canh giò heo với móng heo rất giòn nếu có dịp ghé ăn thử nha các bạn', 'mình gọi bingsu dưa lưới ăn rất ngon giá tạm chấp nhận được rất thích không gian ở đây view đẹp nến lung linh lãng mạn cực kì', 'ghé quán để ăn thử cho biết thấy cũng bình thường nhưng phục vụ tệ mình kêu chỉ có 1 phần cuốn đậu chiên giòn bánh tráng bún đậu chiên xà lách trong bụng nghĩ chắc món này đơn giản nên chắc sẽ đem ra nhanh thôi lúc đó quán vắng khách mà ai dè mấy người vô sau lại được phục vụ trước thấy con ní t nên coi mặt hối nhân viên mới làm còn không thì chắc đợi tới mai', 'nghe mng nói chỗ này ăn ngon thú vị này nọ cũng đi ăn thử lúc mình đến tầm 56h chiều quán nằm cạnh quán bánh canh cua gìđó không gian nhỏ mà đông ngộp ít bàn ghế lúc mình vào là hết chỗ phải mua về nhưng cũng được là phục vụ nhanh mình gọi món tầm 5p là có nhân viên thân thiện chu đáo vì mua về nên mình xin phép k có ảnh đi kèm mình gọi thập cẩm 4 cái 30k vì không ăn được sầu riêng nên lược bỏ cafe ổn bánh thì ăn có trứng sữa là ngon thơm còn lại thì rất tệ vị chocolate có vị bột k mịn vị cũng k tự nhiên thua xa mấy cái puding ở trà sữa luôn 3k biết bánh của mình có vấn đề hay k mà vị phô mai k béo k có mùi đặc trưng của phô mai mà nó có vị gìđó kì kì như bị hư mình ăn được một miếng là bỏ vị trà xanh ăn được nhưng k gọi là ngon bánh cũng k có gì đặc sắc hay có gìđó riêng biệt tóm gọn lại mình thấy tới đây mua được bánh flan trứng sữa mà nếu v thì mua bánh flan công nghiệp luôn cho tiện 3', 'chỗ thì bé ngõ ngõ dược đội ngũ nhân viên chào đón đến mức k có ý định vào ăn nhưng bị giữ lại đành ăn lúc mình gọi anh ơi cho em 1 nem anh nhân viên mang ra cả đĩa nem e chén ngon lành sung sướng luc thanh toán a kêu là 120k mà e còn phải hỏi lại a ơi có nhầm ke gọi co 1 nem chua rán a xác nhận lại là k nhầm tý thì ngã ngửa ở đấy vì quá giá nchung ngon thì cũng ngon nhưng giá điêu quá', 'vì có ăn thế giới steak 1 lần bên chi nhánh 1 mà hôm nay lại ăn thì thấy hoàn toàn thất vọng vì không ngon như lần trước không gian quán nhỏ nhưng bố trí cũng thoải mái mình đến tầm 10h sáng nên quán vắng tanh chỉ có mình và bạn thôi mình gọi đà điểu sốt chua cay và phô mai bò phô mai thịt đà điểu cứng quá mùi phô mai không đậm sốt chua cay ăn tạm có khoai tây chiên là ok nhất trà đá 4k 1 lần cộng thuế 10 tính ra là mắc so với sinh viên', 'lần thứ 3 đến đây lúc nào cũng đông trong tuần cũng khá đông cuối tuần phải đặt bàn gía tăng mỗi năm nhưng mà rất xứng đáng ăn ko lầm đâu thanh toán bằng thẻ còn được giảm giá fre nước nha nên gọi rượu trắng vì ở đây hải sản khá nhiều đồ ăn rất tươi sống order sasimi hơi lâu có lần thứ 2 đi ăn thì bị trúng mấy con cua ốp cũng may còn tôm hùm gỡ gạc khuyên chân thành là đi 4 ng thì chỉ nên gọi 2 con tôm hùm cắt lát ăn sống còn lại chế biến chín ko dễ ngán lắm hết bụng ăn mấy món còn lại món ăn chế biến ko cầu kì nhiều nhưng ko nhiều bằng bên windsor nêm nếm khá vừa miệng mình ăn khá nhạt tráng miệng ít ko có gì đặc sắc', 'không gian rộng rãi thoải mái yên tĩnh lâu lâu xui bị trúng có nhóm khác vô nói chuyện giỡn thì mới ồn ào thôi trà sữa cũng dc tuỳ loại có khi trà sữa rất ngọt có khi thì bình thường giá cả thì cũng ngang vs những quán ts đài loan khác nhân viên cũng khá nhiệt tình có hai anh hay dắt xe giùm rất hiền và tốt riêng cái người nữ thu ngân kiêm pha chế rất vô duyên và kì cục hay có thái độ khó chịu lầm lì nói chuyện thì không bao giờ thấy nở được nụ cười hay vui vẻ haiz mới bước vô quán order mà gặp ngay nhân viên vậy thì mất hết hứng khách bỏ tiền ra ko chỉ mua đồ ăn nước uống mà còn muốn nhận cả sự nhiệt tình và thân thiện của nhân viên'), tensor([1, 1, 0, 0, 1, 0, 0, 1, 0, 1, 1, 0, 0, 1, 1, 1, 1, 1, 0, 0, 1, 1, 0, 0,\n",
            "        1, 1, 0, 0, 0, 0, 1, 0])]\n",
            "1\n",
            "[('mình có ấn tượng các món ăn ở đây đầy đặn mùi vị thơm ngon ấn tượng nhất món nộm chân gà rút xương giòn ngon chua ngọt đậm đà xôi gà kampong có cả giò lạp xường ăn ngon phục vụ nhiệt tình và lịch sự', 'theo mình nhận xét thì quán này bình thường ko có gì đặc sắc bánh nậm bánh bột lọc thì bình thường riêng bánh ướt tôm cháy thì thất vọng hoàn toàn dùng nước mắm đúng tệ giống như bạn ra ngoài mua hộp bánh ướt mà họ quên bỏ chả lụa vào ăn ngán kinh khủng chỉ riêng bánh bèo thì thật sự rất tuyệt nước măm ngon ăn nước mắm nóng nha', 'mình đến h lúc 2pm nên cũng không đông lắm nhân viên thân thiện và dễ thương gửi xe miễn phi mình gọi phần shasimi special và 1 rol cá ăn ngọt thịt sushi lươn ngon không gian nhỏ nhưng ko quan trọng lắm vì chủ yếu ăn ngon', 'nhắc đến highland thì chất lượng khỏi phải bàn giá cả với những người đang đi làm thì bình thường với học sinh thì có hơi cao nên lâu lâu mới đi vài lần không gian rộng rãi thoáng đãng gần sông hàn có máy lạnh nên mùa hè thích ngồi trong hay ngoài đều được nhân viên chu đáo thân thiện background cũng ok nên chụp hình cũng đẹp', '  quán rất dễ tìm ngay ngã 4 luôn nhân viên quán rất nhiệt tình luôn mới ze xe tới là có a giữ xe tới dắt xe dùm ngay mới ngồi vô bàn xem menu đc 30s là có mấy chị bé tới order liền luôn đồ ăn rất ngon nhất là há cảo í bánh bao xá xíu nữa nhắc tới mà thèm menu món nào cũng tầm 30k thôi nhìn nhỏ nhỏ rứa mà ăn là no liền có cái món tàu hủ ky tôm gìđó cái lá tàu hủ dai dai ăn ngon lắm luôn quán có 2 không gian trong nhà và phía ngoài ngof phía ngoài thì trông thoải mái hơn đồ ăn làm nhanh lẹ nóng order tầm 5p là có đồ ăn rồi nên đên quán này để thử đồ ăn nhé', 'quán không nhỏ lắm nhưng khá khó kiếm vì có nguyên cây đằng trước che mất biển hiệu mình kêu 2 phần steak sốt tiêu và 1 dĩa mỳ thịt nguội cream steak ăn được em mình khen ngon nhưng mình không thích lắm vì hơi sống lúc cắt có chảy 1 ít máu mỳ thì phải nói là rất ngán nhiều dầu và béo 2 chị em không ăn hết 1 dĩa điểm cộng cho quán là phục vụ tốt quán sạch sẽ wifi máy lạnh đàng hoàng giá cả phải chăng đồ ăn mang lên nóng hổi thịt mềm khoai và bánh mỳ giòn chứ ko yểu như 1 số nơi khác', 'kết mấy món ở quán lắm    mì nudoru ăn khá ngon lạ lạ mát mát nữa chớ chocobuny đậm vị socola nên thích nốt 3', 'đi ăn mà thấy có lỗi với tự nhiên vì ăn các động vật quá bé mực sữa xào tỏi 90k', 'hôm wa mình có ghé quán cùng với con bạn muốn đi lâu rồi nhưng giờ mới có dịp 2 đứa gọi 1 mì changchang  1 combo cơm 1 cơm trộn 2ly soda kiwi và 1 cacao bánh mì changchang nguội và sợi mì khá cứng k ngon như mình tưởng combo cơm thì có cơm canh kimchi và trứng chiên canh kimchi ngon nhưng cay quá trời   cơm trộn thì hết chỗ chê lun cacao bánh và soda ở đây ngon lắm nka nhân viên thân thiện mà còn hài hước nữa giá cả ở đây khá rẻ lun đó', 'mình đến ăn vào buổi trưa popeyes nằm sát bên domino piza nên rất dễ tìm cảm giác đầu tiên khi mình bước vào là thấy nóng nóng sao ấy chắc là vì màu cam chủ đạo của hệ thống ăn nhanh này gà ăn hơi mặn và khô hơn so với texas chicken bánh biscuit không có bơ mật ong nên không thơm ăn siêu ngán mình có gọi thử cái cơm gà sốt gravy tưởng gì mới lạ thật ra chỉ là sốt của khoai tây nghiền được cái đã thay đổi về nước uống mua ly uống hết có thể refil nhân viên bình thường mấy cái dĩa muỗng nĩa mang ra mình thấy dơ dơ rửa không sạch sao không dùng luôn đồ nhựa như những hãng khác cho nhanh và sạch sẽ nói chung ăn ở đây thất vọng quá', 'bánh ngon nóng giòn m gọi 2 bánh mang về mà chưa đầy 15p đã nhận được bánh ôi bami ơi sao lại có ship đẹp zai vậy trời kiểu này ngày nào cũng phảo ra bami ăn bánh thôi', 'bánh xèo giòn tan thấy béo ngấy k hề ngon lại mắc so với chỗ khác', 'hôm nay mình quay lại quán cùng với mấy người bạn ở sài gòn xuống cũng lâu lắm rồi mình không ghé quán ốc này luôn nên được bữa ăn cho đã nè vẫn không gian tấp nập xô bồ nhưng hên là vẫn còn bàn cho nhóm tụi mình nhưng đợi xếp bàn hơi lâu không được vô rồi ngồi liền đâu hôm nay lại là ngày cao điểm nữa đông như thế này thì đồng nghĩa với việc đợi thức ăn dài cổ rồi nhưng không nha chỉ cần gọi 1 xíu thôi là có liền à vì có mấy cô nấu lận nên nhanh cực kì quán này toàn hải sản tươi sống mỗi ngày thôi bạn bè mình ăn khen tới tấp nên tụi nó ăn nhanh quá không chụp được mấy món kia ấn tượng cái món ốc giác á đó giờ không dám ăn vì hơi sợ nhưng thằng bạn mình gọi món này nhìn cũng hấp dẫn ốc giác được chế biến sạch sẽ trộn với xoài đặc biệt nhiều ớt để khử mùi tanh ấy nên ăn không bị ớn còn mì và ốc mỡ là ok quá rồi chỗ này làm ngon nhất mà ăn cũng rất là no luôn mấy cô phục vụ vẫn thế vẫn lạnh lùng nhưng cô tận tình với khách quá việc quán đông mà vẫn đứng đợi tụi mình order dù quán đang đông', 'quán nằm trên đoạn đường trung tâm vs không gian quán khá thoáng nhân viên phục vụ chu đáo đồ uống ổn ruby uống khá ổn nhưng decor của nước nên đc đầu tư hơn', 'mình tới quán lúc 8h hơn mà cái gì cũng hết mì cơm hết trơn làm bạn mình đói mà không có gì ăn nó than quá trời   rút cục gọi trà sữa thái đủ loại thạch và khoai tây phômai nước thì hơi dở ko ngon nói chung là expect hơi cao thất vọng quợ     bùn', 'lúc nãy vừa mới ghé qán ăn thử những món ăn vặt của đl coi thử làm có giống như ở trên đó làm không qán làm ăn rất ngon lại vừa rẻ nữa ăn qa trời lun mà tính giá rẻ ơi là rẻ lun lại còn được tặng qà nữa chứ món chả cá bọc trứng bách thảo ăn rất ngon trang trí lại đẹp mắt phục vụ lại rất chu đáo mún chuyển nhà qa gần qán qá để ngày nào cũng được ăn hết nói chung là cho qán heo ú điểm tuyệt đối', 'hn đi xem fim vội nên ko kịp ra urban mua matcha dọc đg thấy nên ghé tạm vào gần nhàn y thấy a bảo mở lâu r lần nào đi qua cũng nhìn mà chưa thử nhìn menu rõ ràng ko có matcha mà b nv lại còn nhà e hết matcha mất r thôi thì uống tạm chôcla cokie nhg b nv bảo cái mình chọn ko phải oánh kem đâu cái dưới này cơ ở thì cái dưới cơ mà lại ko có choc cokie nên mình gọi chocola caramel j đấy í nhìn giá 32k cốc nhỏ 40k cốc to đắt hơn cả mấy chỗ khác thôi kệ rồi xong uống ợ qué j lại có mùi cà phê huhu mình chuyên gia say cà phê ghét dã man xong nhạt nhẽo chả có vị j mấy kem cũng chán tóm lại là dở ẹc í à mà 40k thôi tóm lại là có gần nhà ny thật có fre ship thật nhg mà chán ntn thì chịu thôi', 'nhà mình thường xuyên ăn ở đây cũng có thể coi như là khách ruột luôn vào quán ngồi là mấy chị dòm mặt là biết ăn gì khỏi phải kêu réo gì cho mệt hủ tíu hoành thánh chiên hay hoành thánh luộc đều ngon món nui gà là món khoái khẩu của mình ngoài ra còn có hủ tíu khô hủ tíu mì gà quay bánh canh còn có bánh bao chiên và bánh xếp ngon toẹt cú mèo chỉ mỗi tội là ra trễ là hết đồ ăn', 'mình có ghé qua và đi vội nhưng mình thấy thì không gian khá ngột ngạt có nhiều thức uống mình bà bạn gọi grentea matcha và aple kiểu trà sữa có vị ngon giữ nguyên xác trà khá lạ nhân viên pha chế cũng thân thiện giá cả hợp lí', 'lần thứ 2 mình lên lại hồ mây  2 lần đi nhưng cùng 1 cảm giác à thích lắm không khí mát mẻ dễ chịu ai cũng nói ko có gì chơi nhưng mình thấy lúc hoàn thiện rồi cũng vui mà đủ thứ trò chơi luôn thư giãn xã stres mà ko phải đi xa ngắm cảnh bao sướng có nhiều đoạn cứ như phong cách nước ngoài chụp hình bao đẹp nếu ko có thời gian để đi xa thì hồ mây cũng là sự lựa chọn tốt đó chứ', 'mình và bạn hay ăn ở đây tới đây chưa biết ăn món nào cứ hỏi anh tính tiền bạn sẽ được nghe bài ca bánh tráng vì quán đông nên bạn sẽ đc khuyên ăn xoài mắm để chờ xoài mắm ở đây ăn với bò khô nên vị lạ và ko chua mình là dân ghiền bánh tráng patê nên kết món này ở đây giá thì vừa túi tiền đây là địa chỉ ăn vặt rất hay', 'đi đúng mấy hôm sau khi quán này lên k 14 nên đông khủng khiếp chưa bàn đến chuyện ngon hay không tình cờ ngó dc cách ngta rửa bát thấy cũng kinh kinh nên thấy ngon vừa lúc đầu cũng thắc mắc quán đông thế không hiểu bát rửa chỗ nào lúc suýt ngã vỡ mặt vì cái cầu thang vừa bé vừa trơn nhơm nhớp mỡ lại thấy lấp ló sau tấm bạt căng ở chỗ đi lên cầu thang có 2 chị rửa bát bẩn vô địch luôn hy vọng là ngoài bước nhúng bát vào chậu nước bẩn thì còn những bước nữa vì thấy cũng có ròng rọc chở đồ ở các tầng cũng hoành tráng lắm hồi xưa bq ngọc khánh cũng có về bún thì nước ăn ngon do mình thích ngọt nên ăn bún này hợp bề bề còi màk hiểu sao bóc vỏ giỏi thế đi ăn chỉ ấn tượng quả bóc vỏ bề bề siêu phàm nhưng ăn thì không tươi bở bùng bục tôm cũng k ngon cá và đậu rán khô quắt chắc bề bề không tươi nên bóc vỏ mới được cả con nguyên lành điểm cộng là gửi xe chuyên nghiệp còn lại chả có ưu điểm gì đáng để đến lần nữa', 'shop nên bổ sung thêm nhiều loại bánh khác nữa như tiramisu bánh su kem bánh fondant creambrule   cofe mouse pasion fruit chese cake mango mouse new york chese cake mochi dorayaki yogurt matcha chese cofe crunch panacota with bery sauce molten chocolate matcha chestnut sesame zen hokaido milk crepes', 'hôm thứ ngày 128 2015 mình tới quán ăn thử cùng với gia đình được tặng voucher bên hotdeal gồm phần bò và nước ép trái cây quán này không chút thân thiện đối với ai dùng voucher đưa voucher kêu món xong khi bưng ra là nui xào bò   hỏi nv thì nói chủ quán kêu hết bò ăn gần xong chả thấy mang nước phải đi hỏi xong nv lại bưng chai coca ra kêu hết nước ép hết sức khó chịu', 'rất ghét cái kiểu buôn bán như vậy mình tới dùng bufet bằng voucher của nhomua giá 9k 1ng đi lúc 6h30 quán cũng ko đông lắm order đc 1 lần vài món rồi nv cứ lơ lơ ko muốn lên món nữa ngồi đợi hơn 40p mới lên thêm đc 23 dĩa trong khi order thêm chục món bufet như vậy tính ra chỉ bằng giá ăn bt vậy mà quảng cáo ăn thoải mái thịt bò trong bufet là mặc định ko có luôn đâu khỏi mất công hụt hẫng', 'quán gần chổ làm ngày rằm bạn bè rủ nhau ăn chay quán rất đông khách không còn chổ ngồi vì vậy việc phục vụ không được chu đáo lắm kêu món đợi rất lâu đem cơm nhưng không có muỗng hay nĩa gì hết trà đá thì tính tiền món ăn không có gì đặc biệt giá cả cao hơn các quán khách không được hài lòng cho lắm', 'thất vọng khi ăn quán này lẫu ăn nhạt và không thấm thia nói chung là ko ăn lần nữa', 'đồ ăn khá ngon sốt hơi ngọt quá nhưng vs mình thì vừa mình ăn thì khá no giá sv nhân viên đáng yêu mới ăn ở tầng 1 chưa lên tầng2 tầng 1 thì hơi nhỏ nên dễ chật phục vụ cx nhanh', 'lần thư 2 tới quán cảm giác vẫn tuyệt như lần đầu cam giác fre lần sau chắc chơi liều lên hát', 'quán deco lạ mắt tường gạch bong tróc với mấy ống nước nhìn hay hay đi ngoài đường nóng nực vô đây uống nước trú nắng rất ổn mình gọi trà sữa xô vị ngon ko ngán làm liên tưởng phúc long trà đào cũng ngon giá theo mình thấy là ko mắc nhân viên thân thiện còn đến hỏi ý xem có vừa miệng ko đồ uống đa dạng nhưng lúc mình đến thì mấy món nhai luôn ly ko còn nữa hơi tiếc wifi mạnh nhưng không gian chỗ này chỉ hợp tán dốc bạn bè chứ học bài làm việc là chắc chắn ko hiệu quả', 'tớ biết quán này rồi vào đây ăn thịt chuột thì ngon tuyệt vì chuột cống ở đây chắc quán nuôi nó chạy lông ngông dưới chân ấy con nào cũng to khỏe cả mập lắm hú hồn', 'ăn creme brule ở đây chỉ 25k mà ngon hết ý mỗi tội ăn xong phải lọc cọc đi xin nước mát vì thú thật món này toàn đường bơ với sữa ăn mà không khát mới lạ cả wafles và crepe giá cũng vừa phải nhưng mình chưa thử nên chưa biết chất lượng như thế nào có món khoai tây chiên đóng túi ăn mằn mặn giòn giòn gọi 2 viên kem sô côla và dâu tây mà được thêm bao nhiêu whiping cream ở bên dưới hơi ngấy quán có design kiểu pha trộn tây và ta tường vẽ hình cầu long biên đen trắng mà không khí đặc sệt hướng ngoại        '), tensor([1, 0, 1, 1, 1, 0, 1, 0, 1, 0, 1, 0, 1, 1, 0, 1, 0, 0, 1, 1, 1, 0, 1, 0,\n",
            "        0, 0, 0, 1, 1, 1, 0, 1])]\n",
            "2\n",
            "[('đồ ăn không ngon ít đĩa nào cũng được vài miếng ăn không đủ no ướp đồ ăn thì chưa thấm được cái hải sản khá tươi quán khách đông nv ít mà phải chạy qua chạy lại 2 quán chờ pv đến để order mà hoài không thấy nv thì nhiệt tình chịu khó', 'nước ở đây là ngon quán ty nhỏ nhưng lúc nào cũng đông khách nước tầm 30k mỗi món bánh thì mình mới thử bánh gấu nhìn chung okay', 'tôi cùng các bạn đi ăn tại quán gọi 5 phần bò mềm new zealand đặc biệt 1 phần mang về và thêm 1 phần khoai tây chiên phần ăn khẩu vị bình thường nhưng ít bò bị dai chứ không mềm nhân viên phục vụ rất tệ không mang phần khoai tây chiên gọi thêm ra khi chuẩn bị tính tiền thì nhân viên đang nằm ngủ la liệt trong quán và phải đợi chưa kể tôi còn gọi phần bò mềm mang về là khi nào gần tính tiền hẵng làm để nóng nhưng nhân viên làm sẵn để rảnh tay và khi mang ra thì nguội tanh   phục vụ rất tệ cảm thấy không đáng bỏ tiền ra để ăn khuyên các bạn không nên đi ăn quán này hoặc đi ăn thì tránh buổi trưa ra để nhân viên quán được ngủ yên', 'phải chăng king cũng đã đưa thịt thối vào phục vụ khách hàng đối với một hệ thống nhà hàng lớn và có bài bảng đây ko thể là chuyện có thể chấp nhận thức ăn trên line bánh hành và canh nóng thì vẫn rất ngon về phần thịt ko thể tệ hơn hầu hết tất cả đều đã có mùi và vị như đã lâu đã hư mình bỏ tiền ăn suất mắc nhất để ăn dẻ sườn bò mỹ mà dẻ sườn cực tanh va ngấy mùi ôi cắn vào phải nhả ra ngay vú heo cũng vậy hôi dầu và ko thể nào nuốt nổi các loại thịt khác thì còn ăn đc nhưng so vs trc đây chất lượng đã giảm đến 80 mình nghĩ sẽ phải rất rất lâu mới quay lại để thử xem có thay đổi gì ko thời buổi người người nhà nhà ngâm thịt hoá chất bán thịt ôi thiu tìm chỗ có tâm để ăn thật ko dễ thoái hoá cả rồi', 'quán bé ngột ngạt như được cái nhìn ra đường ngắm xe chạy zui mắt nước uống thì tạm được mình uống trà vải được 4 trái ăn hết 2 rồi ko nhà wc vì đag hư khó vậy đó làm hok dám uốg hết ly bữa mình đi tìan con trai ngồi nên thay ngại ngại nói chug hok quay lai nua', 'sản phẩm than sạch không khói được làm 10 từ gỗ mùn cưa sử dụng không khói khi cháy không có hiện tượng nổ tách tách như than củi cháy lâu hơn than củi nhiệt lượng luôn ổn định giảm khoản 40 chi phí so với sử dụng sản phẩm dùng bằng cồn hoặc ga không gây mùi không gây nguy hiểm khi sử dụng không sợ cháy nổ không gây độc hại khi sử dụng sản phẩm được sản xuất tại', 'mình rất thích ăn crepe và wafle nhưng phải nói ở đây làm crepe k ngon lắm giá lại khá là đắt một phần ăn không bỏ dính răng đã 45 50k muốn ăn no luôn chắc một người phải 10k hôm đó mình mua 1 crepe bò và chuối hết 90k nhưng về đến nhà phải mua 1 tô bánh canh ăn mới no vì ăn crepe xong vẫn quá đói 1 mình mình ăn 2 cái luôn đó mình thấy trên fody ghi là giảm 10 cho thành viên nhưng khi mua thì không dc giảm lúc mình chưa đưa e card ra thì niềm nở tiếp đón lúc tính tiền mình đưa e card thái đô thay đổi hẳn luôn và nhất mực nói rằng k có khuyến mãi quá thất vọng sẽ k quay lại đây lần nào nữa từ chất lượng giá cả cho đến cung cách phục vụ', 'tiệm chụp hình trên instagram rất đẹp và hấp dẫn nên ra ngoài có hơi thấy vọng một tẹo lúc mình đến tủ bánh có vài loại nhưng hình như tủ cả tuần chưa rửa nên kính bẩn nhìn kém ngon trà thái xanh mọi người bảo ngon nhưng mình uống lại rất rất bình thường không giống thái xanh mình từng uống bánh toàn là gelatine   nhạt ít vị ăn miếng đầu thấy hơi lạ miếng bánh thứ hai thứ ba từ từ chưa được nửa cái là không muốn ăn nữa rồi lớp gelatine quá đặc trên bánh socola thì phải rất dở luôn bánh chaka cũng chán giá cho mốt miếng bánh đầy gelatine tầm 40k thật sự rất thất vọng và chắc chắn sẽ không bao giờ quay lại', 'quán chuyên sầu riêng sầu riêng ngon và thơm lắm luôn pancake vỏ mềm nhân trog đầy sầu riêng ăn béo lắm su kem bán chia hộp cỡ nhỏ 4 bánh to là 9 bánh bánh bơm tại chỗ thì phải nhân ăn vẫn lạnh nguyên vỏ bánh xốp nhưng ko để đc lâu trog ngày thôi', 'không gian 3 tầng tầng nào cũng đẹp cả rất ưng đồ uống đa dạng không quá đặc biệt nhưng độ ngon đạt điểm 8 giá cả đạt diểm 10 so với các quán cafe đẹp ngang tầm sẽ là 1 trong những quán ruột của bọn mình', 'phá lấu ở đây ngon cực luôn nhé tuy là đi có hơi xa nhưng đc thường thức 1 chén phá lấu ntn thì cũng đáng lắm nhất định sẽ quay lại', 'schol fod có thể nói là nàh hàng giá rẻ nhất so với mặt bằng chung trên lote center   đồ ăn ở đây khá ngon tuy trên menu có nhiều món nhưng thực tế hôm mình ăn thì chỉ có mấy món thôi hôm đó mình có gọi maki topoki   cơm trộn maki thịt xông khói thì phải ăn rất ngon vị rong biển trộn lẫn vị trứng rồi thêm ít thịt và củ cải muối trộn lẫn thật tuyệt cơm cũng khá ngon mình thích củ cải muối nhất topoki thì hơi cay mặc dù mình đã gọi món ít cay nhất rùi gọi 3 món ăn no phè phỡn luôn nhân viên rất thân thiện nhiệt tình đi ra đi vào vẫy tay chào rất đáng yêu luôn điểm trừ duy nhất là do mình đi hôm khai trương nên phải xếp hàng như bao cấp mãi mới được vào ăn luôn', 'được mọi người khen nhiều quá và bánh này cũng nổi tiếng lâu rồi bây giờ mới có dịp đi ăn nói chung là bánh trứng khi nóng thì ăn vặt cũng vui vui ăn thơm mình gọi vị vani truyền thống và vị phô mai ăn cũng khá thơm nhưng bánh mì ở đây khá chán mềm sốt thì nhạt chảo đặc biệt 38k mà có mỗi xúc xích pate thịt và trứng ốp lại nguội tanh   khuyến cáo bác nào đến đây ăn thử thì tốt nhất là tự mang giấy ăn đi   cái thông báo lấy lí do bảo vệ môi trường nên không dùng giấy khô thì dán ở góc tường rồi bán giấy ướt với giá 10k tờ thì không chấp nhận được', 'đi vũng tàu chơi ít ngày nên ghé quán ko đông lắm dễ tìm chỗ ghế êm thức uống ổn bánh ngon mình kêu bánh matcha ăn thấy hình dáng khá đẹp và lạ', 'bánh tráng hơi cứng khó trộn nên ăn hơi tốn năng lượng', 'ngay gần ngã tư tô hién thành với bà triệu bánh ăn cũng đc nhưng giá hơi cao set bánh trong ảnh là 85k bánh to hơn su kem bìng thường 1 tí còn mua lẻ bánh to tầm 25k cái', 'phải nói là không đếm được bao nhiêu lần đã ăn ở quán này rồi nhưng vẫn kết nổ đĩa nhược điểm là chuyển địa điểm quá nhiều mình đã ăn ở chỗ lư ơng đình của sau đó chuyển sang phương mai đc một thời gian lại sang chùa bộc và hôm nọ mới sang chỗ mới nhất là số1 đào duy anh  đi tìm quán đến chóng mặt nhưng vì ăn quen rồi ko sang chỗ khác đc ăn ở chỗ khác cứ thấy vị nó không ngon bằng ở đây về không gian quán hiện nay 2 tầng ngồi trên gác thì chắc là hơi bí mình chưa thử dưới sân thì rộng kê được nhiều bàn chăng đèn điện các thứ khá là đẹp mắt nhg mà lúc khói lên thì cái gì cũng mờ mờ nhé về chất lượng vẫn giữ phong độ ổn định thêm mấy món mới như mực ống với diềm thăn cả một loại bò thái vuông vuông mà quên xừ tên rồi về giá cả ở đây khách đa số sinh viên nên giá cũng rất là sinh viên tầm 10k một người là no hôm nào uống rượu thì 120k về phục vụ cái này hơi kém mà quán cần sửa chữa nhân viên toàn nhỏ nhỏ con con nên làm hơi chậm thỉnh thoảng quên đồ để khách gọi vài lần mới mang ra nhg chắc do đông khách nên thôi tạm tha thứ góp ý là nên tuyển thêm nhân viên để phục vụ tốt hơn', 'lười review lắm lâu nay không biết review fody chỗ nào đi uống toàn review trên fb không hà nay mới được bạn chỉ cho bị ghiện món flan và trà xanh nơi đây ngon không thể chối từ flan ngon nhất mình từng ăn luôn đó bánh mềm ngọt thơm vị trắng và caramel rất rõ ràng không bị xốp hay rổ hồng trà đào tươi ngon nhức nhối  5 lát đào to xụ luôn mà giá có 25k nay có thêm rau câu phô mai tươi nhiều hình dáng cute thấy ngon hơn rau câu vuông hồi trước thích rau câu phô mai tươi màu trắng hồng tím và xanh nhạt vị táo mochi và trân châu củ năng ngon lắm ưng nhất trân châu củ năng màu xanh lá nằm ngay ngã 4 hoàng hoa thám và lê duẩn nên rất dễ tìm đi thật sớm hoặc thật trễ tầm 18h hoặc sau 2h lên tầng trên ngồi ngoài ban công hóng gió nhìn ngắm phố phường những ngày cận tết thật thích tuy nhiên phục vụ hơi lâu nên cừ rày rút kinh nghiệm lựa giờ vắng khách đi cho yene tĩnh và phục vụ được nhanh', 'không gia khá nhỏ tới nơi k có chỗ ngồi fải mua mang về mình mua 1 olong và 1 chocolate olong thì tạm ổn nhưng nghe toàn mùi sữa chocolate thì rất ư là tệ còn thua milo mình uống nữa', 'the cafe box vốn là chỗ đắt đỏ không gian đep tuy nhiên với 1 đứa thích ăn đồ ngon như mình thì không ưng cafe box lắm đã thử 1 chai nước và 1 ham của box giá lên đến 20k tuy nhiên hương vị lại không mang lại như hình ảnh cafe box hướng tới ngon tươi tận tâm ăn vào cảm giác là 1 thứ đồ ăn rất công nghiệp', 'mình cắt và làm tóc ở đây nhiều lần rồi nhân viên dễ thương tận tình vô cùng tiệm khá đông khách đi mấy lần luôn đợi làm rất thích giá cả củng phải chăng chuẩn bị mình đi làm tóc tiếp đây hehe', 'quán dễ tìm nằm gần đầu đường ng đình chiểu vs cmt8 gần tượng đài thích quảng đức   qán này theo xu hướng hàn quốc và rất kpop ở đây thấy dán quá trời poster không gian rộng rãi thoáng mát có lầu màu sắc bắt mắt ra gọi món trc r thanh toán tại chỗ kiểu như lote vs kfc menu đa dạng từ tokboki đến cơm vs mì rồi thức uống nếu ai thích ăn cơm trộn mà rau nhiều thì có thể ăn bibimbap nếu ko thì ăn cơm bulogi bò 1 phần 46k bao no1 phần gồm cơm chiên vs bò bằm cà rốt rong biển vs trứng theo mình là cơm hơi ngọt 1 xí nhưng ăn rất vừa miệng ngon 1 phần cơm là có 1 chén canh kèm theo mình kêu thêm 1 cái lẩu kimchi cũng vừa 2ng ăn là đủ kimchi thịt heo nấm đậu hủ vị vừa ăn cay nồng vị kimchi chua chua cay cay ăn là hít hà đã luôn 1 phần lẩu như vậy kèm thêm 1 chén cơm thiếu thì ăn thêm nước cũng đa dạng nhiều loại còn có pingsu nữa trông cũng hấp dẫn k kém tại no quá k ăn nổi nữa đi buổi trưa thì vắng nhưng đi tối là xếp hàng đó nhân viên phục vụ nhanh nhẹn cũng thân thiện giá cả cũng phải chăng', 'đến quán một vào buổi chiều không gian im lặng khá hợp vs những ng đi một mình như m ngắm xe qua lại nhấm nháp cái vị ngọt béo béo của sữa hoà cùng mùi thơm mát của trà xanh thấy nhẹ nhàng bình yên đến lạ', 'được các anh chị rủ lên mỹ đình làm bữa liên hoan tìm ngay được nhà hàng mỹ đình trên đường hàm nghi kéo dài nhà hàng rất rộng và thoáng mát với đội nhũ nhân viên nhiệt tình menu đa dạng với nhiều món giá cả hợp lý và ngon khách lui tới đây cũng rất đông thích hợp để các bạn trẻ các anh trai tụ họp nhậu bia hay tổ chức liên hoan và karaoke chọn bài luôn trên tầng2', 'cơm nắm không chắc tay vị nêm hơi bị mặn quá và vị của cơm sushi cũng không có ăn cứ như cơm nhà gói lại vậy lại rất hay bể ra mình có gọi sushi rol mà rong biển dai đến nỗi cắn mãi không đứt không biết nhà hàng có biết là rong biển phải hơ qua lửa không thất vọng quá chời mặc dù là bufet sushi mà mình ăn ko thấy ngon gì hết chưa kể món lẩu sukiyaki eo ôi nó ngọt gắt quá', 'mình đi vào đúng dịp lễ 304 phải nói cực vui nhạc đánh cực sung nghe là chỉ muốn lắc lư không gian đẹp lung linh nhân viên nhanh nhẹn đồ uống ngon cực giá cả phù hợp với mặt bằng i like', 'đồ ăn thì điểm tuyệt đối mà tn máy mất hết hình rồi huhu còn có 2 tấm nước uống thì mình thích sinh tố trà xanh sinh tố chuối cacao với mojito hôm t7 vừa rồi qua có bói bài tarot 50k người thấy xem cũng chuẩn quán được cái nhìn xinh lắm qua chụp hình thoải mái bà chủ ko tính phí', 'trà sữa ngon đậm vị trà để trong chai thủ y tinh rất đẹp mua trà sữa là đc luôn cái chai mà giá có 20 k thích nhất ở quán là mình đc xem ngta nấu trà thơm banh mũi luôn kiểu như lỡ ngửi rồi là thế nào cũng phải mua quán cũng nhỏ thôi nhưng không gian ổn có điều hơi thiếu chỗ gởi xe khắc phục đc cái này thì hay a nhân viên rất dễ thương mình hay trốn vào đây ngủ trưa tại thích gỗ với thích mùi trà', 'cô bạn gái nhờ đến đây mua bánh vì lý do em thích bánh ở đây lắm ấy thế là mìnhd dến mua cho cô ấy mới đầu cũng chỉ nghxi cô bé ham ăn nên cái gì cũng thích thôi đến đó mua ngồi đợi cô ấy nữa nên gọi thử cái bánh sụn sữa chua với chese nướng ăn cho đỡ đói thêm cốc cafe thực sự ấm tượng cực thích chắc vì bánh còn dùng kèm cafe nên cafe ko bị đắng bánh không quá ngọt đúng là cô bạn gái của mình ham ăn nhưng cũng biết thưởng thức cái ngon cô ấy thích nhất là bánh 4 vị ấy trong 4 vị ý mình thích nhất trà xanh với việt quất còn cô ấy thích chanh leo', 'đây là tiệm bánh ruột của mình kem rất ngon ngon nhất là bánh kem trái cây và chocolate thiết kế bánh đẹp mắt nhìn không nỡ ăn luon 2 chị phục vụ rất nhiệt tình và dễ thương nhé thích lắm cơ', 'trà sữa ngon khôg quá ngọt kèm với thạch puding nhai rất thích hôm nay gọi trà 3 anh em', 'quán rộng rãi không gian cũng rất thoải mái đặc biệt có phòng bí mật dành cho các đôi bạn trẻ với phong cách hoàn toàn mới lạ độc đáo giữa lòng cần thơ'), tensor([0, 0, 0, 0, 0, 1, 0, 0, 1, 1, 1, 1, 0, 0, 0, 0, 1, 1, 0, 0, 0, 1, 1, 1,\n",
            "        0, 1, 1, 1, 1, 1, 0, 1])]\n",
            "3\n",
            "[('hôm nay lần đầu đi quán này đồn và thoải mái khi ngồi phia ngoài thoáng và mát', 'mình có ghé nhà hàng này nhiều lần mô hình giống befsteak titi trong sg nhưng sang trọng mà giá rẻ hơn nhìu và cũng chất lượng hơn thịt bò mỹ miếng bự với giá này thì chắc quán ít có lời quán có không gian đẹp và điều hoà nhân viên phục vụ dễ thương nhiệt tình với giá 49k cho phần befsteak nước thì sẽ còn ủng hộ dài dài', 'khá ngon không gian rất mát mẻ ai đag bị stres vào đây là khoẻ ngay', 'thạch rất ngon mát tự nhiên giữ đc mùi vị thịt nướng ngon và một xiên rất đầy đặn chỉ tiếc là điểm trừ cho chỗ ngồi chật hẹp và ghế để đồ bất tiện', 'lâu rồi mới ghé lại quán nhân viên trẻ dễ thương nhiệt tình cafe ngon siêu rẻ 20k tiện ích kèm theo hoàn hảo internet yên tĩnh không gian rộng nhưng sao k chấp nhận e card nữa không hiểu', 'năm nào cũng tham gia hội thảo ở đây và được mời ăn trưa nữa nằm trong ks đẳng cấp có khác bày trí đẹp sang trọng cả cái toilet cũng vậy món ăn thì hợp khẩu vị và lạ đa phần là món tây do khách chủ yếu là người nước ngoài khoái cách bày trí bàn ghế nhìn rất tây và thoáng nhân viên phục vụ thì lịch sự khỏi chê luôn', 'thích nhất bánh dẻo bắp tép khô bắp nhiều ăn rất ngon miệng yaour ca cao đây ngon lắm nhé', '  quán không gian đẹp tầm view tốt giá bình dân nhân viên phục vụ tốt nhanh nhẹn có thẻ thành viên nước uống ngon đa dạng cuối tuần có các band nhạc', 'lần đầu tiên mình đến đây qua giới thiệu 1 người bạn mình gọi tiramisu và phần ice blended mình ngồi 1 mình lát hồi nhóm 3 người vào nên mình đồng ý chuyển ghế khác quán bonus cho mình thêm phần chocolate cake khá là thích dù ăn nhiều bánh ngọt quá rồi sẽ quay lại', 'không gian đẹp thức uống cũng đa dạng ở đây mình thử trà sữa cũng khá ngon', 'phở k chán đâu không gian rộng nguyên vị phở sướng thì k nguyên bát to đầy đặn cơ mà đời thủa nhà ai trần quả trứng lạnh ngắt mang lên cho mình xong mình phàn nàn thì bảo dạ chị để em trần lại ơ thế k ăn rồi mà biết bên trong lạnh à làm mình thấy chả vui bt nơi khác nói thế thì họ đền cho quả trứng hoặc ít cũng xin lỗi ở đây còn trả treo là ơi bt trứng thì phải trần lướt cơ thế mới gọi là trứng trần hóa ra ko bảo thì ai cũng được ăn trứng lạnh đã sai còn cãi cố ghét mấy hàng quán mà nhân viên kdc đào tạo kỹ chả vui mấy     thà đi ăn quán vỉa hè mà thái độ tốt còn hơn', 'mình đã đến quán này 2 lần lần đầu tiên là hơn 1 năm trước thức uống không ngon và phục vụ cũng tàm tạm lúc ấy hình như quán cũng mở chưa lâu và hình thức ice blended chưa phổ biến ở vũng tàu nên việc làm nước không ngon mình cũng ko bất ngờ tuy nhiên mình ko có ý định quay lại lần thứ hai mình đến là do có bạn bè ở sài gòn xuống chơi và tiện đường đi ngang bạn bè mình muốn ghé vào ngồi tí cho mát nên mình cũng đồng ý không gian quán không tệ trang trí cũng khá đẹp tuy nhiên điều làm mình và các bạn mình ko muốn quay lại thêm lần nào nữa đó là thức uống và bánh quá dở và nhất là thái độ của nhân viên vô cùng tệ như kiểu họ ko cần khách ko thích thì đừng đến vậy lúc gọi món bạn mình có thấy quán trang trí dễ thương nên muốn chụp hình lại thì có một chị nhân viên đứng trong quầy nói vọng ra là không được chụp hình ở khu vực đó chị ta nói cộc lốc và thái độ thì khá cau có các nhân viên khác khi nói chuyện với nhau thì vui vẻ lắm ko hiểu sao lúc quay qua khách lại nhăn nhó khó chịu duy nhất chỉ có bạn đứng order món cho bọn mình còn chấp nhận được nói chuyện nhẹ nhàng và hỏi món cũng khá kỹ về chất lượng mình và bạn mình gọi khá nhiều món tầm 6 ly nước và 5 phần bánh mỗi loại đều khác nhau   các loại trà đào trà tắc thì uống tàm tạm ko quá dở để phải chê còn các thức uống đá xay thì vô cùng dở món chuối xay gìđó mình nhớ ko rõ rất dở cứ như lấy chuối xay với đá vậy chả có tí thêm thắt sữa hay đường gì nên uống vào nhạt thếch capuchino đá thì lỏng lẻo nhạt nhẽo cả nước ép táo cũng dở ko ra vị táo cũng ko biết nó là vị trái gì ko biết quán này làm thức uống theo công thức kiểu gì luôn còn bánh thì chỉ thấy bánh chocolate ăn được bánh hơi khô như là bánh để qua ngày còn chese cake với chese cake trà xanh thì lại có vị chua chua như có pha cả sữa chua vào ăn rất kì giá cả quán ko rẻ tí nào mà đã vậy cái gì cũng bắt tính tiền thêm kem tươi bắt tính thêm bạn mình uống ko vừa hỏi thì bắt xuống quầy order vì tính thêm tiền à lúc đi về cả đám bọn mình đi ngang qua thì nhân viên đứng nhìn và cũng ko chào khách bạn mình hỏi địa chỉ quán là gì để gọi taxi đến mặc dù bạn mình hỏi lửng ko nhắm vào ai hết nhưng nhân viên cũng ko ai thèm trả lời và mình phải ra ngoài nhìn địa chỉ quán mình sẽ ko bao giờ quay lại quán này nếu chất lượng bánh và nước ko ngon nhưng nhân viên phục vụ niềm nở thì mình vẫn thích và sẽ quay lại vì mình ko ngại tốn tiền mà vẫn vui vẻ chứ vừa mất tiền vừa ko được ăn uống ngon mà vào còn gặp thái độ tệ hại như vậy thì chẳng ai dại mà đến mình nghĩ nếu quán ko khắc phục được tình trạng này có lẽ sẽ chẳng ai thèm đến nữa đâu', 'bạn ở quầy thanh toán không phân biệt được thế nào là late thế nào capuchino mình giải thích cho bạn ấy rồi nhưng lại nhận được câu trả lời late và capuchino nó như nhau cả mà thất vọng hơn nữa là thời gian làm thức uống mình đứng sau chỉ đứng sau 3 bạn mà cảm giác như đứng sau cả 20 hay 30 người mong quán có thể thay đổi những khuyết điểm trên', 'mình ăn ở đây cũng lâu rồi bữa giờ cũng đọc mấy bài phản ánh vệ sinh an toàn thực phẩm của quán dù ko biết đúng hay sai nhưng thiệt là hôm đầu tiên ăn mình cũng bị tào tháo dí mà vì ko biết có phải do bánh tráng nên đau bụng hông nên mua tiếp lần 2 ăn lần 2 ăn cũng bị dí nên mình cạch luôn chỗ này thật ra mình thấy 150đ 1 cuốn thì ko rẻ vì mình thấy 1 cuốn cũg ko có j nước me thì khá ngon nhưng mình ko thích bơ klq mình lúc đầu cũng thấy thông báo tuyển 8 nv nữ lương 15k 1h thì mình cũng khá ham vì lương cao hơn những chỗ khác cơ mà gọi đt thì cô ấy bảo đủng rồi nên ko nhận giờ đọc đc bài phản ánh vsatp cũng thấy mình may mắn vì ko đc nhận', 'mình thấy xiên que 5k mà ít quá có mấy món xúc xích thì 6k mà có phân nữa lúc tụi mình tới quán thì xiên que 5k hết trơn rồi đành không ăn được gì hết hiz hiz nhìn chung các món ăn khác thì cũng được chứ không có gì đặc sắc hết giá cả thì hơi mắc tý phục vụ thì có người kêu khách là nó không lịch sự lắm', 'ở sg xuống chơi nhờ ap fody mà đã phát hiện ra một quán phở ngon lần sau có dịp tôi sẽ giới thiệu bạn bè tới đây thưởng thức', 'nếu bạn muốn thử nhiều loại của cút lộn hay hột vịt lộn thì mình nghĩ ý nghĩ đến đây khong tồi menu khá đa dạng về cút và vịt lộn giá cả khá okay cái này nên ăn tối thì được vì nó k có làm mình no ứ hự đâu', 'kem và nước uống rất ngon đặc biệt là kem tuyết ăn rất ngon nhiều và lại còn rẻ nữa chứ lẩu kem cũng rất rẻ nhé', 'đồ ăn khá chán và đắt một đĩa tokboki được vài miếng kimbap khô và thậm chí không có trứng bên trong trà sữa thái khá nhạt không có nhiều vị đặc trưng', 'trc mình có mua voucher giảm béo đùi 50k đc cái không gian nhân viên god chứ chất lượng thì rất ko cân xứng vô họ masage 30 với kem rồi quấn máy nóng cũng chả có tác dụng gì vậy mà ghi trên voucher là cam kết giảm 35 cm sau 1 lần haiz', 'tôi đến vào trưa ngày chủ nhật nên lúc đó rất yên tĩnh và thoải mái quán theo phong cách rustic nên phần lớn nội thất đều là đồ tái chế chủ quan rất thần tượng jonh lenon thì phải nhạc đúng ghu  đồ uống được nhưng phục vụ hơi lâu nói chung là sẽ đến tiếp', 'dạo trước hay ra vào quán vì một phần ở gần nhà một phần đồ uống cũng ngon nữa có mấy bạn anh chị học chung trg làm thêm ở đó nên cũng không ngại khi vào quán lắm tầng 1 thì ngồi ghế gần chỗ pha chế quá nên mình lên lầu ngồi bệt giống kiểu hàn quốc ấy thích nhất là chỗ sát ngoài cửa kính trong suốt có thể nhìn thấy cảnh ở ngoài đường phòng lại có điều hoà và cả bật nhạc trẻ rất hợp đi vào buổi gần trưa và chiều chiều vì h này không đông lắm còn giá cả thì đem 20k là đủ', 'bánh tráng kẹp mềm không ngon lắm nhưng cũng ok nước chấm ngon cực mắm xoài ngon dã man luôn cũng khá dễ tìm từ vĩnh hội chạy thẳng hoài là tới quán ngay góc ngã ba', 'chủ quán là 1 bà gù tính khó chịu bất cần bánh đập ăn ngon còn bánh bèo tạm được nước mắm hơi ngọt nhìn không đẹp mắt quán nhìn không vệ sinh lắm', 'lâu đài này theo mình biết là cafe lúc đầu chỉ dành cho khách ở khách sạn thôi lúc sau thì mở ra thành cafe cho khách ở ngoài luôn còn nghe nói là giành cho khách thượng lưu nữa không gian một chữ thôi đẹp mình râdt thích cách họ thiết kế từ ngoài vào trong làm mình có cảm giác như công túa toàn bộ là màu trắng thanh lịch xen kẽ với đen huyền bí lâu đài rộng cao bên trong còn có hồ bơi hồ nước đến tối ăn bufet mà cạnh hồ nước họ sẽ bật đèn nhìn lung linh lắm nội thất thì khỏi chê ghế nhung bàn lát kính đèn trần sang trọng đến cái toilet cũng sang trọng có nút bấm rửa sấy cho mình sau khi giải quyết luôn món ăn mình gọi 1 tháp bánh rưỡi vì đi 3 người 1 tháp thì 2 người tháp bánh họ chia mỗi người 1 phần mỗi phần gồm gồm 2 loại bánh kem siêu ngon chocolate cũng bình thường macaron bình thường như ở các shop ngoài bán hơi ngọt phải nói là dở nếu so với macaron thực sự từ pháp 2 loại sandwich mini cá hồi với thịt nguội chả giò trái cây các loại với gì nữa mình quên rồi thêm vào đó mỗi người dc 2 drinks trà bạc hà hoa nhài và cà phê late capucino khá ngon giá tháp bánh mình ăn thì mỗi người cỡ 350k 3 người thì hơn 1 triệu nhưng mà ko phí đâu các bạn tiền nào của nấy còn các món ăn thức uống trong menu thì thấp nhất là 10k nước suối ấy bufet mình cũng ko xem rõ mà nghe mọi người bảo 1tr ng trở lên thì phải phục vụ rất chuyên nghiệp mà sao toàn nam anh nào anh nấy ko cao to đô thì cũng đẹp trai anh mở cổng mặc quân phục cũng rất đẹp lúc sau đổi ng chị mở cửa cũng rất ngầu luôn họ nói chuyện từ tốn nhẹ nhàng chăm sóc khách chu đáo 3 mấy anh quầy bar cũng rù quến nốt tóm lại đồ ăn thức uống ngon phong cảnh thượng hạng phục vụ mình như nữ hoàng lại còn đc ngắm trai thì 350k người là còn rẻ chán các bạn ạ nên đi thử 1 lần nha', 'không gian đẹp ấm cúng nhiều cây xanh đồ uống ngon nhiều món lạ nhân viên ok đặc biệt nghe nhạc rất hay nhất là lúc có acoutic có vẻ là ca sĩ của quán luôn chứ ko phải ca sĩ chạy shô   tại thấy mỗi bạn hát vài bài rồi ở lại lúc sau lại hát tiếp chứ ko như các quán khác ca sĩ hát 1 lần nhiều bài luôn rồi đi về   không có dt xịn chụp hình đẹp nên kiếm trên youtube thấy có nhiều clip hát của quán chia sẻ với mọi người', 'phải nói là chờ được ly kem mòn mỏi luôn đó quán khá đông khách vô tấp nập vỉa hè ko có chổ bỏ xe ngồi ngóc mặt ra đường mà cmt8 thì xe nườm nượp ngồi tý xe qua xe lại kẹt xe khói bụi tiếng còi xe chóng hết cả mặt mình ăn kem gì ko nhớ mà 25k lận thấy mắc huhu nhưng bù lại mình thấy làm bằng nguyên liệu tươi luôn miếng xoài còn nguyên bỏ vô dầm dầm hihi cũng ngon nhưng thử mấy chổ khác coi sao đã', 'mấy em mèo ở đây đẹp nên chảnh khó nựng thôi rồi nhiều khi bị quào nữa huhu nhưng không thể chối rằng mấy ểm quá đẹp và xinh zai xinh gái nhìn cưng thì thôi màk nựng đc nhiều cũng ức chế lắm nước ngon cũng tính vào phí cho mấy em mèo nên thấy cũng ko mắc lắm ngoài mấy em mèo cò ln có mấy em chó cũng cưng lắm ngen 3', 'đi cuối tuần quán đông ko đủ nhân viên phục vụ thái độ nhân viên ko tốt mình biết ý nên khi tới mình gọi món lẩu trước rốt cuộc ăn hết mấy món gọi thêm mà chưa ra món lẩu nhân viên bưng ra ko 1 câu xin lỗi khách hết sức tệ', 'ở cần thơ đi ăn chè ở đây vừa rẻ vừa ngon 1ly có 6k mà nước cốt dừa beo béo đậu phộng thơm lừng chè bưởi thanh lịm luôn cô chủ ở đây bán dễ thương nữa chu đáo và rất nhanh nhẹn bữa nào có dịp đi đông khách sẽ thấy được cảnh cô chủ lăng xăng mà mình vẫn không phải đợi lâu', 'nước lẩu khá là vừa vặn đồ nhúng lẩu tươi ngon món nướng không có mấy chè và xôi mít là mình thấy ăn ngon nhân viên nhiệt tình và chu đáo khi mình gọi đồ hay là cả khi mình và bạn mình ra về còn hỏi đồ ăn của nhà hàng có làm hài lòng các bạn không này nọ   nói chung là rất biết lắng nghe khách hàng và đó là điểm cộng không gian mình cho là cũng tạm được giá cả rất phải chăng mình mua voucher trên muachung có 178k  vé mà ăn đến no căng cả bụng ấy toàn ăn bò úc í 3 quán buổi tối vắng khách mình không hiểu sao chất lượng tốt vậy mà vắng khách hay là vì trong royal có nhiều hàng lẩu nướng và các hàng ăn khác cạnh tranh lần sau có dịp nhất định mình sẽ lại đến đây ăn tất nhiên là phải giới thiệu địa điểm này cho các bạn mình nữa 3', 'đi đúng hôm noel siêu siêu đông may mà vẫn còn chỗ bạch tuộc thì khỏi phải bàn tẩm ướp ngon nhưng cứ có cảm giác đĩa bị ít hơn với cả hôm đấy đông quá hết cả khoai đĩa rau bị cắt xén đi còn rõ ít ấn tượng với bánh mỳ bơ mật ong gọi liền 2 đĩa hôm đấy 2 đứa gọi 3 loại liền bạch tuộc ba chỉ dạ dầy 1 đĩa rau và 2 bánh mỳ đồ uống linh tinh vào nữa lúc thanh toán cứ nghĩ hết nhiều nhưng cuối cùng chỉ hơn 20k sock nhưng cảm thấy không no lắm người yêu mình thì khỏe  ăn đồ nướng chắc không hợp túi tiền nếu muốn no'), tensor([0, 1, 1, 0, 1, 1, 1, 1, 1, 0, 0, 0, 0, 0, 0, 1, 0, 1, 0, 0, 1, 1, 1, 0,\n",
            "        1, 1, 0, 1, 0, 1, 1, 0])]\n",
            "4\n",
            "[('kem ở đây ăn không ngon mà còn mắc nữa 1 viên 30 k mà nhỏ xíu hà', 'thấy mọi người bình luận có vẻ ngon nên mình đặt món thử mang về một phần tok phô mai và sữa tươi chiên các loại nhìn chung thì giá cả bình thường về món ăn thì tok mềm ăn được thích nước sốt sữa tươi chiên bình thường không ngon bằng chỗ khác cái mình muốn nói là sữa tươi chiên choco hình như quán không bán được nên để lâu thành đồ cũ có dấu hiệu bị chiên lại nhiều lần đến nỗi đen lại bánh ỉu mềm nhũn và bị thiu ăn hay ngửi đều có mùi chua loét mình thử một miếng xong phải đem vứt hết vào thùng rác không dám ăn nữa hoàn toàn không hài lòng với cách bán này yêu cầu quán xem lại chất lượng món ăn trước khi bán cho khách trước đó đã định sẽ quay lại thử các món khác nhưng với tình hình này thì mình không dám quay lại nữa  ', 'phúc long khỏi phải nói nhiều rồi ạ mà có cái đợi hơi lâu nhân viên không thân thiện với khách mấy còn trà với bánh ngon tuyệt cú mèo luôn', 'sáng đi làm ghé ăn sáng ở đây mình gọi hủ tiếu khô thập cẩm 1 tô hơi nhiều có sủi cảo nữa mà trụn còn hơi cứng tổng cộng tính la 69k giá khá cao nhưng ko ngon', 'quán này hôm nay mình có đến lại cũng uống socola chuối như mọi khi nhưng vị hôm nay lại chát kinh khủng ko ngon như mong đợi mình nghĩ quán này cũng hên xui về hương vị ko cố định nên mn cân nhắc', 'vào kafe mấy lần nhưng không thích lắm đồ uống nhạt nhẽo nhân viên không nhiệt tình có khi nhân viên còn đông hơn cả khách mình vào ngồi một lúc mà không thấy có nhân viên nào ra phục vụ mặc dù quán khá vắng trong lúc đó họ lại đang nói chuyện với nhau và mình phải gọi mấy lần mới ra phục vụ', 'ai mà chưa biết crawfish như thế nào thì hãy mua thử 1 lần tôm ngon nhưng đắt nước sốt rất ngon đậm đà chấm kèm với bánh mì thì tuyệt vời dạo này voucher crawfish bán trên mạng cũng nhiều và rẻ nhưng được người bạn giới thiệu quán này ghé mua thử thì rất là hài lòng giá cả ok giao hàng nhiệt tình combo 350k tính thêm ship 20k nữa còn được tặng thêm coca và 1 ổ bánh mì rất chu đáo nói chung là ngon sẽ giới thiệu cho bạn bè dùng thử món này', 'ăn ở đây đc 2 lần thì đên lần thứ 3 thấy chủ quán cho mấy viên j vào giống y xì đường hoá học hik 1 viên thì không nói làm gì   đây phải đến 45 viên sợ quá nên k dám đến nữa mặc dù ăn cũng đc', 'mấy lần trước có hay ghé đây ăn ếch nay cũng ghé lại ăn cùng gia đình quán lúc nào cũng đông hết nha có mấy tối cuối tuần đông ful bàn luôn nên mình hay gọi đặt bàn trước đặt luôn món ăn vì các ăn ăn ở đây khi đến gọi mới bắt ếch lột da làm nên sợ đợi thời gian chế biến nấu nữa nay mình lại vẫn ăn cháo ếch ếch vị đậm đà vừa ăn ếch to và thịt rất tươi cháo không quá đặc quá lỏng nóng hổi thơm xíu mùi lá dứa sau đó mình gọi 2 món khác là ếch rang muối hồng kong và ếch satế ếch hồng kong thì vị cay cay mặn mặn thấm đều cả con 2 con 75k giá rẻ ăn rất thích ếch satế là bao cay luôn dành cho nhưng bạn thích ăn cay nha đặc biệt dù satế cay thấm đậm vị nhưng vẫn ngon lắm nhân viên thân thiện nhiệt tình nước soda ở đây pha chế cũng ngon lắm nhé có giữ xe gần quán luôn', 'một lần gia đình mình đi vũng tàu chơi dang loay hoay không biết ăn ở đâu thì được người dân địa phương chỉ đến chỗ này hom đó trời mưa nhà mình được bảo vệ che dù dẫn vô tới trong luôn rất tận tình view ở đây cũng rất đẹp không gian thoáng mát rộng rãi quan trọng là đồ ăn ở đây rất ngon rất xứng đáng đồng tiền tôm nướng to ú vừa chín nên ăn ngọt ẩm bên ngoài là lớp satế mằn mặn cay cay ôc len xào dừa siêu ngon beo béo ngọt ngọt vừa phải mà ốc mập lắm hàu nướng phô mai tươi thơm phô mai beo ngậy ăn1 con là no luôn ý ôc hương nướng mọi thì khỏi giới thiệu rồi hen nói tóm lại là siêu thích chỗ này có dịp sẽ ghé nữa', 'hồi xưa ngon lắm bây giờ tệ quá ăn 4 muỗng là buông li muốn về nhãn bị sâu và ỉu thạch mình ăn có cái chân gián ở trong', 'baskin có chương trình ưu đãi dành cho sinh viên giá 25 0 1 viên nên vào làm ngay 2 viên ngon tuyệt cú mèo nhân viên rất tận tình gợi ý nhiều món mứt cốm rắc lên', 'nhà hàng có không gian đẹp thui khỏi nói lun nhân viên thì k tốt lắm món ăn thì ngon', 'mình và band the yumy rockers thường hay diễn ở đây vào thứ bảy chủ nhật 3 rất thích cách bài trí của quán 3', 'điểm cộng quán này ở ngay cạnh nhà mình đồ ăn rất ngon một dĩa ốc chỉ 35k mà quá trời luôn cơm chiên cá mặn 65k mà nhóm mình có 3 người mà ăn bành bụng luôn hihi    đồ nướng ở quán này được tẩm ướp rất ngon và vừa ăn hôm nào đói bụng mà quên nấu đồ ăn là chạy qua quán mua 2 que sườn nướng về gặm 20k que đúng là giá cả tuyệt vời hôm nào quán cũng đông khách hết điểm trừ trên lọ đựng muỗng nĩa không có sẵn đũa nên mỗi lần ăn lẩu là cứa phải gọi mấy ac phục vụ mang đũa ra hết mà gọi tới khan cổ mới thấy ló mặt ra quán này ngày xưa chỉ có khu trước đường thôi nhưng về sau do thuê mặt bằng ở phía đối diện căn nhà cổng xám trong hẻm nên có hai khu để ăn lận', 'mình thấy nó tuyệt vời về 3 chỗ về không gian sáng sủa sang trọng nhà mình đi 3 người mà hên hay sao ấy đc xếp vô bàn 6ng ngồi rộng rãi thoải mái quán phân ra 2 loại quầy khác nhau giành chong ăn chay và ăn mặn nên bn p lưu ý sd đúng loại gắp thức ăn khác nhau để tránh bị nhắc nhở như mình p về cách phục vụ nv rất thân thiện nhiệt tình dù quán đông khách vẫn niềm nở nói chung là dth nc lẩu hết ko cần mình p kêu họ thấy hết sẽ châm thêm cho mình ngay về món ăn tuy cũg ko p là xuất sắc lắm nhưng v là ok r ngoài nc lẩu nhạt ko có vị đặc sắc ra thì các món còn lại đều ok thịt bò hơi nhìu mỡ và tôm thì cho ít kết nhất vẫn là phần desert các loại bánh kem cocktail ngon ăn thả ga lun', 'ở đây giá cũng rẻ kg cao lắm món ăn thì ra quầy chọn tự phục vụ đồ nướng cũng được lẩu thì chọn nước rồi ra quầy lấy đồ ăn giữ xe fre không gian cũng thoải mái', 'tối đi ăn bánh khá trễ nên mình quyết định ghé quán vì tới 1h mới đóng cửa ấn tượng đầu tiên là quán decor đẹp sang trọng mấy chú giữ xe cũng nhiệt tình nữa cực nhìu các loại bánh từ ngọt đến mặn có cả bánh toast trà sỉu bọt kem nhìu món lắm lun mà giá mền có mấy bánh nhỏ nhỏ xinh xinh dưới 10k lun giá thấp hơn so với mình nghĩ mà chất lượng thì ok quán rộng có tầng có view nhìn xuống đường nữa bánh ngon nước cũng vậy phục vụ cũng chu đáo mở nhạc cũng hay nữa so về giá cả với các quán khác thì quán này thấp hơn nhưng chất lượng không thấp hơn đâu nhóe     nói chung kết quán này rồi', 'bánh ở đây thơm thơm béo béo có đủ vị vị socola là thơm nhất ấy cô chú bán bánh cũng dễ thương nữa', 'quán hơi khó tìm trang trí đẹp nước ngon mèo dễ thương nhân viên nhiệt tình sẽ quay lại', 'ko gian hơi cũ ko sáng sủa lắm gọi 1 đĩa kimbap chiên và 1 nui xào bò gọi thử theo fedback của các bạn trên fody luôn vì đây là lần đầu ăn kimbap chiên nên ko biết kimbap chiên ở đây bn điểm nhưng thấy chiên ko bị dính quá nhiều dầu mỡ rau củ cuộn bên trong vẫn có độ giòn món này mình ok ngon lạ nui xào thịt bò ăn hương vị như mấy món mình hay ăn miến xào thịt bò phở xào thịt bò mì xào thịt bò d vẫn bò vẫn rau cải để ăn no hay để thưởng thức giá cả ổn', 'mình thấy quán này được khen nên rủ bạn đi ăn nói chung cũng được giá cũng ổn nhưng khổ nỗi mình rất dễ dị ứng bột ngọt đúng là cái miệng hại cái thân mình khoái ăn mặn nên chang hết nước vô hậu quả là về nhà cả 2 đứa khó chịu nhưng mình bị nặng hơn tê miệng tay chân bủn rủn buồng bôn mới đầu cứ tưởng bị sốt lát sau mình nhớ lại mới thấy vị khá giống với mấy món bỏ bột ngọt quá đà mà mình ăn hồi trước sáng hôm sau miệng mình cũng còn tê tê còn một vấn đề nữa là nhân viên ở đây khá là không cảm xúc không biết do làm việc quá sức hay bán đắt quá nên sinh ra bất cần không ai có nổi một nụ cười gọi cũng không thèm nhìn một cái trừ vụ bột ngọt mình đã không muốn quay lại rồi', 'bọn mình ofline clb ở đây dự định lúc đầu là quán khác sau không biết ngã cây thế nào lại vào funday   không gian tầng hai hơi nhỏ ánh sáng được điều hoà có như không có loa đài micro không có máy chiếu bọn mình order đồ uống của từng người nhiều bạn gọi trà thái xanh vì rẻ 20k thêm sữa nha đam các thứ mới 25k đồ uống thì khá ổn nói chung không đặc sắc nhưng cũng không thấy ai chê bai gì nhiều chắc mọi người cũng bận không để ý mấy có mỗi lúc thanh toán là có tí rắc rối vì bọn tớ gọi đồ chung nhưng ghi tên từng người cho tiện thế mà bạn nhân viên lại đưa cái hoá đơn chung để bọn mình tự thanh toán khổ nỗi lại có 1 số bạn về trc nên mình toát hết mồ hôi mới check xong cho mọi người xong lại bị chênh tiền các thứ mệt chắc chả quay lại đâu', 'mình là rất thích ăn kem dừa nên khi đi ngang thấy quán này mình vào ăn thử cũnh háo hức lắm vì nghĩ là kem dừa thái lan mà phục vụ cũng khá nhanh nhìn vào kem thì trang trí bắt mắt nhưng khi ăn vào thì k hề có mùi dừa nước dừa thì k ngon xôi thì tạm đc k ngon bằng kem xôi dừa mình ăn ở trần nhân tôn phần phục vụ lúc đầu thì ok đến lúc tính tiền mình góp ý thì nvien cứ nói mình chắc ăn j trước đó rồi nên mình k có nếm ra đc mùi dừa mình ra khỏi quán thì nvien đã kịp truyền tai nhau lời góp ý cũng mình và nói đằng sau lưng mình rồi nói chung mình sẽ không quay lại', 'mình đi vào cuối tuần quán đông nhưng nhân viên phục vụ chỉ đứng nói chuyện cười đùa với nhau mình đến muộn nhưng 20h30 thì có nhân viên mang bil bảo thanh toán tiền luôn rồi các nhân viên khác bắt đầu dọn dẹp cất hết đồ trong khi còn 1 vài bàn vẫn đang ăn hỏi tới đồ tráng miệng thì nhân viên thái độ bảo nhà hàng đóng cửa rồi lúc ra về mình nhìn ngoài cửa thì giờ mở cửa từ 1h đến 23h30   đồ ăn thì không tươi cũng chẳng đặc sắc như các nhà hàng khác mình sẽ không quay lại quán lần nữa', 'được chú bạn thân tặng cho cặp vé đi chơi tiniworld   mình cho bé đi luôn dịp cuối tuần nằm trong khu aeon mal gần nhà nên hầu như cuối tuần nào mình cũng cho bé vào đây chơi tiện đường đi lại mát mẻ nhiều đồ chơi và nhiều bạn nữa nên bé nhà mình thích lắm nhân viên ở đây khá chu đáo và thân thiện đặc biệt với trẻ nhỏ chứ không như ở một số khu vui chơi khác nhân viên hay khó chịu khi bé lỡ nghich ngợm quá đà mình thích nhất là đồ chơi khá sạch sẽ nhân viên luôn sắp xếp và dọn dẹp đồ chơi ngăn nắp các bé chơi xong cũng học tập sắp xếp đồ chơi theo chỉ có điều là bé nào cũng say mê chơi mà quên thời gian gọi về là làm nũng khóc mếu mà thả cho bé chơi chắc ở nguyên ngày quá trong đây cũng có khu phục vụ ăn uống khá tiện lợi có chỗ ngồi thoải mái đồ ăn và đồ uống cũng khá ok', 'thấy nước mây cũng ngon ngon ngọt man mát có mùi sữa chua lên men hương trái cây thì có 5 vị lận dâu dâu rừng đào táo và quả nhiệt đới mình thích nhai thêm kẹo dẻo khi uống nên mỗi lần mua thêm 2k bỏ vào cả nước cả kẹo hết trọn 20k uống thấy đúng cái giá 20 nó khác rất phù hợp ngon mát đã khát có dịp mình sẽ thử hết cácvị tại đây luôn', 'mình thấy trà xanh nhật bản ở đây rất ngon mình thấy khuấy đều rồi uống nó sẽ đỡ béo hơn', 'không gian khá nhỏ nhưng dễ thưong trang trí cũng nhẹ nhàng tinh tế đồ uống ngon thích nhất là trà sữa mua về tặng lun bình rất dễ thương giá cả cũng phải chăng anh chị chủ quán rất thân thiện dễ thương túm lại là rất thích', 'mình ăn quán này lâu rồi hôm qua mới quay lại quán bán bò nầm nướng lẩu ếch sườn sụn mình ko ăn lẩu nên ko nhận xét nhưng bò nướng h chán quá thịt bò mang ra đỏ au cảm giác hơi gợn gợn lúc ăn thấy thớ thịt ngắn như thịt lợn ý ko thấy mùi bò đâu thịt cũng chẳng tẩm ướp gì mình gọi suất 30k ăn vừa vừa bánh mì bơ rau dưa tính riêng tưởng rẻ hoá ra đắt mà ăn ko giống bò gì cả ngày trc ăn ở đây ngon thế mà h thành ra thế này thất vọng tràn trề', 'thịt tươi ngon nhưng nước chấm không hợp với mình lắm ăn cứ nhạt nhạt không đậm đà như bên sumo bq', 'đến quán đúng đợt lạnh phải gọi là nhâm nhi rượu mơ vào ngày đông thật tuyệt quán cũng rất dễ tìm không gian mộc mạc ấm cúng mình gọi set combo 5 món cho 4 người ăn tầm 70k đồ ăn trông mộc mạc đúng kiểu nhậu mà rất ngon có cổ nhồi lòng mề xào giá mướp nướng và lẩu có cả tiết canh nhưng mình không ăn được nhường cho tụi bạn tụi nó kêu ngon còn kéo búa bao xem đứa nào ăn bát í lẩu đầy đặn nước lẩu rất ngon nói chung là giá cả ổn mà đồ ăn ngon rượu êm ấm người ngủ sâu sáng dậy ko đau đầu tí nào có bạn nhân viên hơi lơ ngơ tí hỏi gì cũng bảo e đi hỏi quản lý nhưng được cái hiền vs dễ thương'), tensor([0, 0, 0, 0, 0, 0, 1, 0, 1, 1, 0, 1, 1, 1, 1, 1, 0, 1, 1, 1, 0, 0, 0, 0,\n",
            "        0, 1, 1, 1, 1, 0, 0, 1])]\n",
            "5\n",
            "[('bánh ngon không gian với ánh đèn vàng tạo cảm giác ấm cúng đơn giản lịch sự các loại bánh đa dạng giá cả chấp nhận được tuy nhiên menu thức uống khá chát trong lúc đợi giờ phim cgv chiếu có thể vào đây nhâm nhi bánh quá hợp d', 'nhỏ e dẫn mình đến quán này sau đó tìm hiểu trên fb thì mới thấy rằng quán này vừa đẹp về hình thức mà ngon lẫn chất lượng luôn thiệt tình là cái kem ko hiểu làm bằng gì công thức thế nào mà ngon quá sức à cốt bánh bên trong cũng mềm và ko bị khô ăn riết ghiền luôn mình cũng biết làm bánh nên hay đi ăn bánh ở nhiều nơi để tham khảo mà mình chưa thấy chỗ nào làm ngon hơn hết không gian quán thiết kế rất tinh tế dễ thương ấm áp nha nhân viên cũng dễ thương nữa', 'mình vừa đi ăn thử chỗ này về ấn tượng chung xô bồ và đẳng cấp kém so với hình ảnh quảng cáo mua 3 voucher đặt chỗ từ tuần trước nhưng hôm nay tới không có xác nhận dù mình khẳng định là có tin nhắn xác nhận rồi quản lý vẫn không tin nên không cho người nhà mình vào làm mình phải bỏ ngang việc chạy tới tới nơi nhân viên còn lừng khừng đến mức độ mình vào thẳng sau khi trình tin nhắn cho họ xem không cần biết họ giải quyết ra sao   bắt đầu với quầy bufet lèo tèo đến không thể tệ hơn nữa tới phần gọi món ăn chính thức thì được gọi thoải mái nhưng món ăn thiếu khẩu vị trầm trọng dơ dáy nóng cực dù các máy lạnh chạy mã rồi không xứng đáng với đẳng cấp trên dưới 30k người tí nào may mà mình luôn thử chỗ mới với voucher nếu giá cao hơn 130k người không thì chắc chắn ức chế lắm đây dù nhân viên phục vụ khách hàng nhiệt tình nhưng cũng không đủ gỡ địa phương cho nhà hàng này bạn có thể hối hận nếu ăn ỏq đây và không thiệt thòi gì nếu không ăn ở đây bao giờ', 'ở sg ăn nhiều rồi h ra đn cũng có rất thích món này trời hè nóng nực ăn vào mát cả ruột mà quán k bán cả ngày chỉ bán buổi tối hơi tiếc ngon rẻ chắc ám quán này suốt đời', 'bị taxi dụ đến quán bán khá mắc 1kg tôm giá 480k xoài và lạc quá mắc chỉ gọi vớ vẫn 2 con cua 1kg với 12 con tôm 80g mà thanh toán gần 90k quán không để bảng giá trước may mà trong nhóm có người biết giá tham khảo chứ không chắc tầm vài triệu cho một chầu không đã cảm nhận cua cũng không tệ khá ngon dù giá hơi cao tí riêng tôm gọi tôm nướng mà cứ như tôm luộc không có chút đặc sắc gì có lẽ quán móc nối với taxi nên trong đoàn cũng có một nhóm nữa bị taxi đưa tới sau đó không lâu và cũng bị chém đẹp luôn nên cẩn thận', 'quán này đã đóng cửa lâu rùi các bạn đừng đi tìm chi cho nó mệt', 'quán mới mở chỉ có 1 tầng trệt nhưng không gian quán khá dễ thương giá cả cũng ok mình uống trà xanh tươi bạc hà ngọt vừa vị trà xanh xen lẫn mùi thơm bạc hà ly vừa 20k nhân viên vui vẻ nhiệt tình lắm giữ xe wifi fre wc trên lầu sạch sẽ', 'giá hơi cao đồ ăn ít mình con gái ăn cũng ko no uống nước nữa mới no điểm yếu của quán là đồ ăn ko được nóng sợ nhất là canh kim chi vì ko nóng nên có trứng nó hơi tanh và canh kim chi nhưng ko cảm nhận được vị kim chi ở đâu cả món bánh phô mai thì ngon nhưng 2 cái là ngán rồi gửi xe có tính tiền nhé', 'lẩu 2 người 3 con tôm và 45 con ngao gìđó vài thớ mực mình thấy mực tươi nước lẩu ngọt ngây bếp nguy hiểm với cũ nữa cho khách tự bưng rất nóng ko tự điều khiển được nói chung là tệ', 'chất lượng và phục vụ đều rất tệ kem toàn màu thực phẩm và chỉ cảm nhận đc 1 mùi phục vụ thì nhăn nhó khó chịu ăn trả tiền mà cứ như lại xin k bằng', 'mình và bạn vào quán gọi 1 tô bún đuôi bò và 1 tô bún thịt nướng sau khi ăn bọn mình có nhận xét như sau bún thịt nướng rau muống bào hơi già nên sợi dai thịt nướng ướp sả mềm thơm nước mắm vừa ăn bún hơi ít bún đuôi bò hai viên đuôi bò cứng ngắc màu nâu sậm lấy đũa xiên qua mà không được luôn nước lèo thì sắc xuống nên đục và hơi mặn nếu lần sau mình ăn bún đuôi bò mà gặp lại tình huống này mình sẽ xin được gặp bếp để thưa chuyện vì trong tô chỉ có hai miếng đuôi và một miếng huyết bò thôi nếu không ăn được đuôi thì còn gì tô bún đuôi bò nữa chứ nhỉ khi thanh toán mình có báo việc này với nhân viên phục vụ có nói bạn ấy nói bếp xem lại trông bạn cũng hơi ngại ngại kết luận mình đã ăn tại món huế ở pasteur ngon hơn nhiều mình sẽ không ghé chi nhánh này của món huế nữa trừ khi trường hợp bất khả kháng mình thất vọng với chất lượng ở đây lắm ý kiến cá nhân của mình hy vọng hữu ích cho các fodie nhé bunbohue   monhue   dinhtienhoang ', 'mình là mình thích quán ni rầu không gian đẹp mà món ăn lại hấp dẫn quá đi chứ', 'mình thấy fresh garden bánh cũng bình thường mà sao nhiều người thích thế nhỉ bánh cũng không quá tươi như cái tên cũng chỉ như những hàng bánh mì khác bánh gato thì đắt mà ăn cũng không ngon như ở anh hòa hay paris gateaux nữa nói chung là được cái thương hiệu nổi tiengs  mở nhiều cửa hàng thôi chứ cũng chẳng có gì', 'so với các quán khác giá ở đây cao hơn bù lại đồ ăn nhiều hơn các món ăn kèm làm rất thấm thấy rất ok nên đến ăn thử', 'ngồi quán này đúng là đậm chất vỉa hè hôm nay mình đến quán này trời vừa tạnh sau mấy ngày mưa lên thèm ngồi vỉa hè thôi mưa thì ngồi lên đầu nhau', 'mỗi khi chiều chiều mình cũng hay cùng gia đình ghé qua tiệm này lắm bánh canh rất ngon và có nhiều thịt cua và tôm nhưng mình thì thích gọi đầy đủ nhìn hấp dẫn giá cả thì cũng ko đắt đầy đủ 40k còn bình thường tôm thịt là 35k mọi người thử ghé ăn thử nhé', 'the place was kinda smal but filed with delicious smel you got to chose or design what you want to eat so that is a god thing the waitor   waitres is super nice and very atentive the price was reasonable for wuality delicious fod i l come back again for sure', 'nghe các bác giới thiệu em cũng thèm đi ăn ở đây một lần ùi bánh tráng nướng nói chung là cũng ngon nhưng mà ngấy em gọi thêm đĩa bánh khọt cái này thì em thấy là không ngon bánh xốp nh cục ị trí thì cũng bình thường phục vụ quá lâu cứ ăn một món xong lại chờ được cái trà chanh thơm mùi chanh hơn các chỗ khác vị dịu khá vừa ý ak gửi xe bên ngoài bị mất phí', 'đã cùng gia đình và bạn bè từ tp hcm lên nhà hàng nhìu lần để giải trí sau những tuần làm việc mệt mỏi căng thẳng tuy nhà hàng goldfish cách thành phố 35km nhưng để có 1 nơi cùng gia đình và bạn bè vui chơi ăn uống ok thì 35km củng ko gọi gì là xa cả', 'mình đến đây ăn rồi cua ở đây rất ngon chế biến rất nhanh được chủ quán tư vấn nhiều kiến thức về cua giá rất mềm không gian thoáng mát yên tĩnh mình rất thích sẽ ghé ủng hộ nhiều lần nữa', 'quesa hơi bị ngon lun nha vỏ giòn ăn thích mê lun nhân viên quán quá ư là dth tư vấn nhiệt tình quán nhỏ nhưng trang trí lại ok quán vừa đổi hình trc quán hình đẹp hơn hình cũ nhiu', 'hôm nay trời lạnh ngồi uống cofe nóng và ngắm không gian yên tĩnh và nghe nhạc dịu êm thật dễ chịu và ấm', 'thấy các bạn dạo này hay đi ăn ở đây nên mình cũng đú đởn nhân dịp thèm 1 xíu gà xào và rủ được người đi ăn cùng quán ở đây bé hơn sam dak nhiều cả tầng 1 tầng2 chỉ ngồi được chục bàn nhưng thấy lúc mình về có mấy nhóm khách đứng đợi xếp bàn thấy tội tội vì hnay trời mưa tầm tã mà gà ở đây họ bán theo suất kiểu cho 2 3n   suất cho 3 4n   nhiều hơn nữa chứ không tính theo số lượng người như ở sam dak   trong ảnh là phần cho 2 3n giá 30k chắc cũng tương đương với phần 2 người ở kia nhưng rau thái nhỏ hơn đâm ra khi xào lên teo lại bé xíu cá nhân mình thì mình cảm thấy thích ăn ở sam dak hơn ở đây cảm giác ướp nó hơi nhạt chút xíu  bù lại thì giá ở đây cũng rẻ hơn menu phong phú nhiều món được tặng kèm canh rong biển mình có gọi thêm canh tương không ngon bằng ở chỗ khác mình ăn nhưng cũng được ở đây thấy có gà sốt cay nhìn hấp dẫn lắm nhìn bàn khác ăn mà thèm nhỏ dãi mỗi tội bạn đồng hành của mình đã quá no nên k thể gọi ăn được', 'ngay lúc này đang ngồi ở đây và ko thể chấp nhận dc việc có sợi gìđó trong thạch điều này là ko chấp nhận dc đối với chỗ lớn như hitea', 'mọi người nên đi ít nhất 1 lần quán đẹp thì k qá xá đẹp nhưng chất lắm từ đồ ăn đến nhân viên mọi thứ đều chuẩn k cần chỉnh mình hay đi quán này lắm đi với ny hay bạn bè đều thích hợp hết món mì ý ở đây ngon hết sẩy   mấy món soda ở đây là mình thíc nhất luôn hehe', 'lâu lâu ghé qua cơ sở 9 của trường thuận đường ăn thử bánh mì này ổ bánh mì thì bự nhưng thịt thì cũng bình thường thôi ko nhiều thế nên ăn ổ bánh mì bọng ko mặt khác cực kì ko hài lòng với thái độ phục vụ ở đây mình dặn là ko ớt dặn 23 lần ng làm bành mì cũng mở miệng bảo ko ớt rốt cuộc vẫn bỏ ớt vậy là sao', 'sushi ngon ơi mà ngon mà giá lại bình dân vô cùng set thuyền b có sashimi cá hồi bạch tuộc cá trí ch sushi cá hồi cua trứng maki cá hồi cay maki cali chỉ có 168 k thôi thuyền trang trí đẹp mắt nhìn là muốn ăn ngay sashimi và sushi ngon vị vừa ăn thích nhất là cái maki cá hồi cay vị cá hồi béo béo xen với vị hơi cay cay ngon không tả nổi không gian quán khá thoáng và sạch sẽ quán ở mặt tiền dễ tìm quán trang khí khá đơn giản và không có gì đặc biệt sẽ quay lại và ăn các món khác nữa', 'quán đơn giản không cầu kì dễ ngồi làm việc thích capucino ở quán này', 'quán mở nhạc to ầm kiểu như vào một cái club ý xong kêu nhân viên mở nhạc bé lại tí để bọn mình nói chuyện thì bị bảo là không mở nhạc nhỏ được kiểu vì có một đám kia đang ngồi hút wed uống bia gì đấy đấy chắc kiểu như khách quen khách vip lol nhân viên ở quán thiếu chuyên nghiệp và bất lịch sự chả thân thiện tẹo nào nói chung là quán vắng teo chả ai vào cả vì mình thấy decor col col thì chui vào xong bị đập ngay vào mặt cái experience không ra gì   nản quá uống xong ly nước xách đít đi ra hứa với lòng về nhà sẽ viết cái review dài hoằng ra để complain kiểu mình đã đi biết bao nhiêu cái cafe cái này là cái siêu tệ của tệ', 'dễ thươg lắm lun ý nhìn ko nỡ ăn cơ mà ko ngon j hết chỉ dc cái dễ thươg thoy mùi vị dễ mà nguyên 1 lớp sôcôla bên ngoài ngán dở hix kem rất nhah chảy mua chỉ ngắm thoy giá cũg tạm', 'quán rất nhỏ rất hầm và nóng giá cả lại khá mắc so với chất lượng trà sữa rất lỏng trân châu có hôm thì rất cứng', 'không gian lòe loẹt       đồ ăn khá đắt nhà kế bên mà ko dám vào ăn thấy có đợt khuyến mãi tính vào thử nhưng mà toàn h mình đi làm nên hajz'), tensor([1, 1, 0, 1, 0, 0, 1, 0, 0, 0, 0, 1, 0, 1, 0, 1, 0, 0, 1, 1, 1, 1, 0, 0,\n",
            "        1, 0, 1, 0, 0, 0, 0, 0])]\n"
          ]
        }
      ]
    },
    {
      "cell_type": "markdown",
      "metadata": {
        "id": "0Jwbo1rl0sw7"
      },
      "source": [
        "**DATA ANALYTICS**"
      ]
    },
    {
      "cell_type": "code",
      "metadata": {
        "colab": {
          "base_uri": "https://localhost:8080/",
          "height": 294
        },
        "id": "ejM79r4d89d6",
        "outputId": "7ceb446f-7083-4e03-9661-e17828afd864"
      },
      "source": [
        "train.groupby('class')['class'].count().plot(kind=\"bar\")"
      ],
      "execution_count": 7,
      "outputs": [
        {
          "output_type": "execute_result",
          "data": {
            "text/plain": [
              "<matplotlib.axes._subplots.AxesSubplot at 0x7f1dde7a0ed0>"
            ]
          },
          "metadata": {},
          "execution_count": 7
        },
        {
          "output_type": "display_data",
          "data": {
            "image/png": "[encoded data removed]",
            "text/plain": [
              "<Figure size 432x288 with 1 Axes>"
            ]
          },
          "metadata": {
            "needs_background": "light"
          }
        }
      ]
    },
    {
      "cell_type": "code",
      "metadata": {
        "colab": {
          "base_uri": "https://localhost:8080/",
          "height": 421
        },
        "id": "yNmq-zhB1BTd",
        "outputId": "eccd4c48-7d60-4e82-efc8-af1fff689c69"
      },
      "source": [
        "train['preprocess_text'].str.len().hist(bins=200)\n",
        "print(train['preprocess_text'].str.len().describe())"
      ],
      "execution_count": 8,
      "outputs": [
        {
          "output_type": "stream",
          "name": "stdout",
          "text": [
            "count    27000.000000\n",
            "mean       396.756556\n",
            "std        352.174353\n",
            "min         16.000000\n",
            "25%        171.000000\n",
            "50%        295.500000\n",
            "75%        504.000000\n",
            "max       7014.000000\n",
            "Name: preprocess_text, dtype: float64\n"
          ]
        },
        {
          "output_type": "display_data",
          "data": {
            "image/png": "[encoded data removed]",
            "text/plain": [
              "<Figure size 432x288 with 1 Axes>"
            ]
          },
          "metadata": {
            "needs_background": "light"
          }
        }
      ]
    },
    {
      "cell_type": "code",
      "metadata": {
        "id": "ifZ2TJh91BGN"
      },
      "source": [
        "\n",
        "def get_top_ngram(corpus, n=None):\n",
        "    vec = CountVectorizer(ngram_range=(n, n)).fit(corpus)\n",
        "    bag_of_words = vec.transform(corpus)\n",
        "    sum_words = bag_of_words.sum(axis=0) \n",
        "    words_freq = [(word, sum_words[0, idx]) \n",
        "                  for word, idx in vec.vocabulary_.items()]\n",
        "    words_freq =sorted(words_freq, key = lambda x: x[1], reverse=True)\n",
        "    return words_freq[:10]"
      ],
      "execution_count": 9,
      "outputs": []
    },
    {
      "cell_type": "code",
      "metadata": {
        "colab": {
          "base_uri": "https://localhost:8080/",
          "height": 282
        },
        "id": "QwQvujec141U",
        "outputId": "7a55c82b-63fd-4287-f746-eabd50286494"
      },
      "source": [
        "from sklearn.feature_extraction.text import CountVectorizer\n",
        "import seaborn as sns\n",
        "top_bi_bigrams=get_top_ngram(train['preprocess_text'],1)[:10]\n",
        "x1,y1=map(list,zip(*top_bi_bigrams))\n",
        "sns.barplot(x=y1,y=x1)"
      ],
      "execution_count": 10,
      "outputs": [
        {
          "output_type": "execute_result",
          "data": {
            "text/plain": [
              "<matplotlib.axes._subplots.AxesSubplot at 0x7f1ddc264dd0>"
            ]
          },
          "metadata": {},
          "execution_count": 10
        },
        {
          "output_type": "display_data",
          "data": {
            "image/png": "[encoded data removed]",
            "text/plain": [
              "<Figure size 432x288 with 1 Axes>"
            ]
          },
          "metadata": {
            "needs_background": "light"
          }
        }
      ]
    },
    {
      "cell_type": "code",
      "metadata": {
        "colab": {
          "base_uri": "https://localhost:8080/",
          "height": 282
        },
        "id": "FszoAzNc3lR5",
        "outputId": "e5f22ee5-d27e-46c9-afd8-d76a0a048610"
      },
      "source": [
        "top_bi_bigrams=get_top_ngram(train['preprocess_text'],2)[:10]\n",
        "x2,y2=map(list,zip(*top_bi_bigrams))\n",
        "sns.barplot(x=y2,y=x2)"
      ],
      "execution_count": 11,
      "outputs": [
        {
          "output_type": "execute_result",
          "data": {
            "text/plain": [
              "<matplotlib.axes._subplots.AxesSubplot at 0x7f1ddc0c5990>"
            ]
          },
          "metadata": {},
          "execution_count": 11
        },
        {
          "output_type": "display_data",
          "data": {
            "image/png": "[encoded data removed]",
            "text/plain": [
              "<Figure size 432x288 with 1 Axes>"
            ]
          },
          "metadata": {
            "needs_background": "light"
          }
        }
      ]
    },
    {
      "cell_type": "markdown",
      "metadata": {
        "id": "gJjb04m0nGBX"
      },
      "source": [
        "# Model"
      ]
    },
    {
      "cell_type": "code",
      "metadata": {
        "id": "laCD7EF5PZnz"
      },
      "source": [
        "from fairseq.data import Dictionary\n",
        "import sentencepiece as spm\n",
        "from os.path import join as pjoin\n",
        "from transformers import PreTrainedTokenizer\n",
        "import sentencepiece as spm\n"
      ],
      "execution_count": 12,
      "outputs": []
    },
    {
      "cell_type": "code",
      "metadata": {
        "colab": {
          "base_uri": "https://localhost:8080/"
        },
        "id": "fapUQkFkvrgu",
        "outputId": "e9458c15-d095-4e1d-a33e-09da072ffd7c"
      },
      "source": [
        "!apt-get install git-lfs\n",
        "!git lfs clone https://huggingface.co/vinai/phobert-base"
      ],
      "execution_count": 13,
      "outputs": [
        {
          "output_type": "stream",
          "name": "stdout",
          "text": [
            "Reading package lists... Done\n",
            "Building dependency tree       \n",
            "Reading state information... Done\n",
            "git-lfs is already the newest version (2.3.4-1).\n",
            "0 upgraded, 0 newly installed, 0 to remove and 37 not upgraded.\n",
            "WARNING: 'git lfs clone' is deprecated and will not be updated\n",
            "          with new flags from 'git clone'\n",
            "\n",
            "'git clone' has been updated in upstream Git to have comparable\n",
            "speeds to 'git lfs clone'.\n",
            "fatal: destination path 'phobert-base' already exists and is not an empty directory.\n",
            "Error(s) during clone:\n",
            "git clone failed: exit status 128\n"
          ]
        }
      ]
    },
    {
      "cell_type": "code",
      "metadata": {
        "id": "sypO4qMvnwOL",
        "colab": {
          "base_uri": "https://localhost:8080/"
        },
        "outputId": "7bee8555-171f-4346-ae96-1c9ac4ec1242"
      },
      "source": [
        "from transformers import RobertaConfig, RobertaForSequenceClassification, AutoTokenizer\n",
        "import torch\n",
        "\n",
        "pretrained_path = '/content/phobert-base/'\n",
        "!ls $pretrained_path\n",
        "# load tokenizer\n",
        "roberta = RobertaForSequenceClassification.from_pretrained(pretrained_path)\n",
        "tokenizer = AutoTokenizer.from_pretrained(\"vinai/phobert-base\")\n"
      ],
      "execution_count": 14,
      "outputs": [
        {
          "output_type": "stream",
          "name": "stdout",
          "text": [
            "bpe.codes    flax_model.msgpack  README.md    vocab.txt\n",
            "config.json  pytorch_model.bin\t tf_model.h5\n"
          ]
        },
        {
          "output_type": "stream",
          "name": "stderr",
          "text": [
            "Some weights of the model checkpoint at /content/phobert-base/ were not used when initializing RobertaForSequenceClassification: ['lm_head.bias', 'lm_head.dense.weight', 'lm_head.decoder.bias', 'roberta.pooler.dense.weight', 'lm_head.layer_norm.weight', 'lm_head.decoder.weight', 'roberta.pooler.dense.bias', 'lm_head.layer_norm.bias', 'lm_head.dense.bias']\n",
            "- This IS expected if you are initializing RobertaForSequenceClassification from the checkpoint of a model trained on another task or with another architecture (e.g. initializing a BertForSequenceClassification model from a BertForPreTraining model).\n",
            "- This IS NOT expected if you are initializing RobertaForSequenceClassification from the checkpoint of a model that you expect to be exactly identical (initializing a BertForSequenceClassification model from a BertForSequenceClassification model).\n",
            "Some weights of RobertaForSequenceClassification were not initialized from the model checkpoint at /content/phobert-base/ and are newly initialized: ['classifier.dense.weight', 'classifier.dense.bias', 'classifier.out_proj.bias', 'classifier.out_proj.weight']\n",
            "You should probably TRAIN this model on a down-stream task to be able to use it for predictions and inference.\n",
            "Special tokens have been added in the vocabulary, make sure the associated word embeddings are fine-tuned or trained.\n"
          ]
        }
      ]
    },
    {
      "cell_type": "code",
      "metadata": {
        "id": "g8mZiHH8yltU",
        "colab": {
          "base_uri": "https://localhost:8080/"
        },
        "outputId": "90b58ca5-63dd-4d44-aa22-41f00fc9b624"
      },
      "source": [
        "# try to convert some text into numbers\n",
        "inputs = [\"Tôi ghét nó\", \"Tôi thích nó\", \"Tôi quý nó\"]\n",
        "inputs = tokenizer(inputs, return_tensors='pt')\n",
        "print(inputs)\n",
        "outputs = roberta(**inputs, labels=torch.tensor([0, 1, 1]))\n",
        "print(outputs)"
      ],
      "execution_count": 15,
      "outputs": [
        {
          "output_type": "stream",
          "name": "stdout",
          "text": [
            "{'input_ids': tensor([[   0,  218, 5853,  231,    2],\n",
            "        [   0,  218,  543,  231,    2],\n",
            "        [   0,  218,  882,  231,    2]]), 'token_type_ids': tensor([[0, 0, 0, 0, 0],\n",
            "        [0, 0, 0, 0, 0],\n",
            "        [0, 0, 0, 0, 0]]), 'attention_mask': tensor([[1, 1, 1, 1, 1],\n",
            "        [1, 1, 1, 1, 1],\n",
            "        [1, 1, 1, 1, 1]])}\n",
            "SequenceClassifierOutput(loss=tensor(0.7394, grad_fn=<NllLossBackward0>), logits=tensor([[ 0.0810, -0.1489],\n",
            "        [ 0.0898, -0.0490],\n",
            "        [ 0.1264, -0.1982]], grad_fn=<AddmmBackward0>), hidden_states=None, attentions=None)\n"
          ]
        }
      ]
    },
    {
      "cell_type": "code",
      "metadata": {
        "id": "GW03BijknFFb"
      },
      "source": [
        "from sklearn.metrics import roc_auc_score, classification_report, accuracy_score\n",
        "\n",
        "\n",
        "class SentimentRoberta(pl.LightningModule):\n",
        "    \"\"\"\n",
        "    SentimentRoberta class inherits from LightningModule\n",
        "    This class is used to train a model using PyTorch Lightning\n",
        "    It overrides the following methods:\n",
        "        - forward : forward pass of the model\n",
        "        - training_step : training step of the model\n",
        "        - validation_step : validation step of the model\n",
        "        - validation_epoch_end : end of the validation epoch\n",
        "        - configure_optimizers : configure optimizers\n",
        "    \"\"\"\n",
        "    def __init__(self, lr_roberta, lr_classifier):\n",
        "        \"\"\"\n",
        "        Initialize the model with the following parameters:\n",
        "            - lr_roberta : learning rate of the roberta model\n",
        "            - lr_classifier : learning rate of the classifier model\n",
        "        \"\"\"\n",
        "        super().__init__()\n",
        "        self.roberta = RobertaForSequenceClassification.from_pretrained(pretrained_path)\n",
        "        self.tokenizer = AutoTokenizer.from_pretrained(\"vinai/phobert-base\")\n",
        "\n",
        "        self.lr_roberta = lr_roberta\n",
        "        self.lr_classifer = lr_classifier\n",
        "\n",
        "    def forward(self, texts, labels=None):\n",
        "        \"\"\"\n",
        "        Forward pass of the model\n",
        "        Args:\n",
        "            - texts : input texts\n",
        "            - labels : labels of the input texts\n",
        "        \"\"\"\n",
        "        inputs = self.tokenizer(texts, return_tensors='pt', padding=True, truncation=True, max_length=256)\n",
        "        for key in inputs:\n",
        "            inputs[key] = inputs[key].to(self.device)\n",
        "\n",
        "        outputs = self.roberta(**inputs, labels=labels)\n",
        "        return outputs\n",
        "\n",
        "    def configure_optimizers(self):\n",
        "        \"\"\"\n",
        "        Configure optimizers\n",
        "        This method is used to configure the optimizers of the model by using the learning rate\n",
        "        for specific parameter of the roberta model and the classifier model\n",
        "        \"\"\"\n",
        "        roberta_params = self.roberta.roberta.named_parameters()\n",
        "        classifier_params = self.roberta.classifier.named_parameters()\n",
        "\n",
        "        grouped_params = [\n",
        "            {\"params\": [p for n, p in roberta_params], \"lr\": self.lr_roberta},\n",
        "            {\"params\": [p for n, p in classifier_params], \"lr\": self.lr_classifer}\n",
        "        ]\n",
        "        optimizer = torch.optim.AdamW(\n",
        "            grouped_params\n",
        "        )\n",
        "        scheduler = torch.optim.lr_scheduler.StepLR(optimizer, step_size=1000, gamma=0.98)\n",
        "        return {\n",
        "            'optimizer': optimizer,\n",
        "            'lr_scheduler': {\n",
        "                'scheduler': scheduler,\n",
        "                'monitor': 'f1/val',\n",
        "            }\n",
        "        }\n",
        "\n",
        "    def training_step(self, batch, batch_idx):\n",
        "        \"\"\"\n",
        "        Training step of the model\n",
        "        Args:\n",
        "            - batch : batch of the data\n",
        "            - batch_idx : index of the batch\n",
        "        \"\"\"\n",
        "        texts, labels = batch\n",
        "        outputs = self(texts, labels=labels)\n",
        "\n",
        "        if len(outputs.values()) == 3:\n",
        "            loss, logits, _ = outputs.values()\n",
        "        else:\n",
        "            loss, logits = outputs.values()\n",
        "        return loss\n",
        "\n",
        "    def validation_step(self, batch, batch_idx):\n",
        "        \"\"\"\n",
        "        Validation step of the model, used to compute the metrics\n",
        "        Args:\n",
        "            - batch : batch of the data\n",
        "            - batch_idx : index of the batch\n",
        "        \"\"\"\n",
        "        texts, labels = batch\n",
        "        outputs = self(texts, labels=labels)\n",
        "\n",
        "        if len(outputs.values()) == 3:\n",
        "            loss, logits, _ = outputs.values()\n",
        "        else:\n",
        "            loss, logits = outputs.values()\n",
        "\n",
        "        output_scores = torch.softmax(logits, dim=-1)\n",
        "        return loss, output_scores, labels\n",
        "\n",
        "    def validation_epoch_end(self, validation_step_outputs):\n",
        "        \"\"\"\n",
        "        End of the validation epoch, this method will be called at the end of the validation epoch,\n",
        "        it will compute the multiple metrics of classification problem\n",
        "        Args:\n",
        "            - validation_step_outputs : outputs of the validation step\n",
        "        \"\"\"\n",
        "\n",
        "        val_preds = torch.tensor([], device=self.device)\n",
        "        val_scores = torch.tensor([], device=self.device)\n",
        "        val_labels = torch.tensor([], device=self.device)\n",
        "        val_loss = 0\n",
        "        total_item = 0\n",
        "\n",
        "        for idx, item in enumerate(validation_step_outputs):\n",
        "            loss, output_scores, labels = item\n",
        "\n",
        "            predictions = torch.argmax(output_scores, dim=-1)\n",
        "            val_preds = torch.cat((val_preds, predictions), dim=0)\n",
        "            val_scores = torch.cat((val_scores, output_scores[:, 1]), dim=0)\n",
        "            val_labels = torch.cat((val_labels, labels), dim=0)\n",
        "\n",
        "            val_loss += loss\n",
        "            total_item += 1\n",
        "\n",
        "        # print(\"VAL PREDS\", val_preds.shape)\n",
        "        # print(\"VAL SCORES\", val_scores.shape)\n",
        "        # print(\"VAL LABELS\", val_labels.shape)\n",
        "        val_preds = val_preds.cpu().numpy()\n",
        "        val_scores = val_scores.cpu().numpy()\n",
        "        val_labels = val_labels.cpu().numpy()\n",
        "\n",
        "        reports = classification_report(val_labels, val_preds, output_dict=True)\n",
        "        print(\"VAL LABELS\", val_labels)\n",
        "        print(\"VAL SCORES\", val_scores)\n",
        "        try:\n",
        "            auc = roc_auc_score(val_labels, val_scores)\n",
        "        except Exception as e:\n",
        "            print(e)\n",
        "            print(\"Cannot calculate AUC. Default to 0\")\n",
        "            auc = 0\n",
        "        accuracy = accuracy_score(val_labels, val_preds)\n",
        "\n",
        "        print(classification_report(val_labels, val_preds))\n",
        "\n",
        "        self.log(\"loss/val\", val_loss)\n",
        "        self.log(\"auc/val\", auc)\n",
        "        self.log(\"accuracy/val\", accuracy)\n",
        "        self.log(\"precision/val\", reports[\"weighted avg\"][\"precision\"])\n",
        "        self.log(\"recall/val\", reports[\"weighted avg\"][\"recall\"])\n",
        "        self.log(\"f1/val\", reports[\"weighted avg\"][\"f1-score\"])"
      ],
      "execution_count": 16,
      "outputs": []
    },
    {
      "cell_type": "code",
      "metadata": {
        "id": "qMRyo5iYBvn8",
        "colab": {
          "base_uri": "https://localhost:8080/",
          "height": 486,
          "referenced_widgets": [
            "2f72e04c96e747e38e652abe699bc76b",
            "e5aaad51c95a40d68c570125d5ccaa5d",
            "6ea609eaa7954af79b70738dbd9c7bbb",
            "9f7d108c07af434dbbf2cc313397703b",
            "7c03f84517bc46bebac5f436e095e241",
            "5443f511d9fe4158ab6054b09aef7bf1",
            "7b87712b5d354833b8217a50d4b9fecd",
            "5c42ca55b0d1475aa2137dd534a146be",
            "e669c74ff8f34b8fa6573840f2a686c0",
            "6477f00af6ff46c3ad966e107325a537",
            "3b97d221f2b9442d87294fb190e45863"
          ]
        },
        "outputId": "ebe77a6f-4c89-4d07-ec85-10e96f5ed0b9"
      },
      "source": [
        "\n",
        "trainer = pl.Trainer(\n",
        "    fast_dev_run=True,\n",
        ")\n",
        "model = SentimentRoberta(lr_roberta=1e-5, lr_classifier=3e-3)\n",
        "dm = SentimentDataModule()\n",
        "\n",
        "trainer.fit(model, dm)"
      ],
      "execution_count": null,
      "outputs": [
        {
          "output_type": "stream",
          "name": "stderr",
          "text": [
            "GPU available: True, used: False\n",
            "TPU available: False, using: 0 TPU cores\n",
            "IPU available: False, using: 0 IPUs\n",
            "/usr/local/lib/python3.7/dist-packages/pytorch_lightning/trainer/trainer.py:1580: UserWarning: GPU available but not used. Set the gpus flag in your trainer `Trainer(gpus=1)` or script `--gpus=1`.\n",
            "  \"GPU available but not used. Set the gpus flag in your trainer `Trainer(gpus=1)` or script `--gpus=1`.\"\n",
            "Running in fast_dev_run mode: will run a full train, val, test and prediction loop using 1 batch(es).\n",
            "Some weights of the model checkpoint at /content/phobert-base/ were not used when initializing RobertaForSequenceClassification: ['lm_head.bias', 'lm_head.dense.weight', 'lm_head.decoder.bias', 'roberta.pooler.dense.weight', 'lm_head.layer_norm.weight', 'lm_head.decoder.weight', 'roberta.pooler.dense.bias', 'lm_head.layer_norm.bias', 'lm_head.dense.bias']\n",
            "- This IS expected if you are initializing RobertaForSequenceClassification from the checkpoint of a model trained on another task or with another architecture (e.g. initializing a BertForSequenceClassification model from a BertForPreTraining model).\n",
            "- This IS NOT expected if you are initializing RobertaForSequenceClassification from the checkpoint of a model that you expect to be exactly identical (initializing a BertForSequenceClassification model from a BertForSequenceClassification model).\n",
            "Some weights of RobertaForSequenceClassification were not initialized from the model checkpoint at /content/phobert-base/ and are newly initialized: ['classifier.dense.weight', 'classifier.dense.bias', 'classifier.out_proj.bias', 'classifier.out_proj.weight']\n",
            "You should probably TRAIN this model on a down-stream task to be able to use it for predictions and inference.\n",
            "Special tokens have been added in the vocabulary, make sure the associated word embeddings are fine-tuned or trained.\n",
            "\n",
            "  | Name    | Type                             | Params\n",
            "-------------------------------------------------------------\n",
            "0 | roberta | RobertaForSequenceClassification | 134 M \n",
            "-------------------------------------------------------------\n",
            "134 M     Trainable params\n",
            "0         Non-trainable params\n",
            "134 M     Total params\n",
            "539.999   Total estimated model params size (MB)\n"
          ]
        },
        {
          "output_type": "stream",
          "name": "stdout",
          "text": [
            "27000 21600 5400\n"
          ]
        },
        {
          "output_type": "stream",
          "name": "stderr",
          "text": [
            "/usr/local/lib/python3.7/dist-packages/pytorch_lightning/trainer/data_loading.py:408: UserWarning: The number of training samples (1) is smaller than the logging interval Trainer(log_every_n_steps=50). Set a lower value for log_every_n_steps if you want to see logs for the training epoch.\n",
            "  f\"The number of training samples ({self.num_training_batches}) is smaller than the logging interval\"\n"
          ]
        },
        {
          "output_type": "display_data",
          "data": {
            "application/vnd.jupyter.widget-view+json": {
              "model_id": "2f72e04c96e747e38e652abe699bc76b",
              "version_minor": 0,
              "version_major": 2
            },
            "text/plain": [
              "Training: 0it [00:00, ?it/s]"
            ]
          },
          "metadata": {}
        }
      ]
    },
    {
      "cell_type": "markdown",
      "metadata": {
        "id": "0HtXPhT4g9VN"
      },
      "source": [
        "# Training"
      ]
    },
    {
      "cell_type": "code",
      "metadata": {
        "id": "BfhWop6-hD08"
      },
      "source": [
        "from pytorch_lightning import loggers as pl_loggers\n",
        "from pytorch_lightning.callbacks import EarlyStopping, ModelCheckpoint\n",
        "\n",
        "torch.manual_seed(123)\n",
        "\n",
        "tb_logger = pl_loggers.TensorBoardLogger('/content/drive/MyDrive/colab/tb_logs2/')\n",
        "\n",
        "trainer = pl.Trainer(\n",
        "    min_epochs=1,\n",
        "    max_epochs=5,\n",
        "    gpus=1,\n",
        "    precision=16,\n",
        "    val_check_interval=0.5,\n",
        "    # check_val_every_n_epoch=1,\n",
        "    callbacks=[\n",
        "      ModelCheckpoint(\n",
        "          dirpath='/content/drive/MyDrive/ckpt',\n",
        "          save_top_k=3,\n",
        "          monitor='f1/val',\n",
        "      ), \n",
        "      EarlyStopping('f1/val', patience=5)\n",
        "    ],\n",
        "    fast_dev_run=False,\n",
        "    logger=tb_logger\n",
        ")\n",
        "\n",
        "dm.setup(stage=\"fit\")\n",
        "trainer.fit(model, dm)"
      ],
      "execution_count": null,
      "outputs": []
    },
    {
      "cell_type": "markdown",
      "metadata": {
        "id": "L8wvJNe5xG62"
      },
      "source": [
        "TEST"
      ]
    },
    {
      "cell_type": "code",
      "metadata": {
        "id": "Qo1gSkpVxO80"
      },
      "source": [
        "# show the result here\n",
        "%reload_ext tensorboard\n",
        "%tensorboard --logdir '/content/drive/MyDrive/colab/tb_logs2/'"
      ],
      "execution_count": null,
      "outputs": []
    },
    {
      "cell_type": "code",
      "metadata": {
        "id": "QKVQrC1TkzRG"
      },
      "source": [
        "# test the model with some sentence\n",
        "inputs = [\"Cái tai nghe này rẻ thế \"]\n",
        "outputs = model(inputs)\n",
        "logits = outputs['logits']\n",
        "score = torch.softmax(logits, dim=-1)\n",
        "Labels = [\"Positive\", \"Negative\"]\n",
        "print(score)\n",
        "print(f\"The sentence: '{inputs[0]}' has {Labels[torch.argmax(score, dim=-1).item()]} tone with confident score : {score[torch.argmax(score, dim=-1).item()]}\" )\n"
      ],
      "execution_count": null,
      "outputs": []
    }
  ]
}